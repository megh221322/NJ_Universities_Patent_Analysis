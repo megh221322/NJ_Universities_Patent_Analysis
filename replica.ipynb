{
 "cells": [
  {
   "cell_type": "code",
   "execution_count": 1,
   "id": "7570777d",
   "metadata": {},
   "outputs": [],
   "source": [
    "# import required python modules\n",
    "import pandas as pd\n",
    "import os.path as os_path\n",
    "import csv\n",
    "import os"
   ]
  },
  {
   "cell_type": "code",
   "execution_count": 2,
   "id": "74894b6f",
   "metadata": {},
   "outputs": [],
   "source": [
    "# set global variables for start and end year -- these must be data type str\n",
    "START_YEAR = '2015'\n",
    "END_YEAR = '2022'"
   ]
  },
  {
   "cell_type": "code",
   "execution_count": 3,
   "id": "81633c02-018f-4d4b-b1fa-e1c95bbe18ad",
   "metadata": {},
   "outputs": [
    {
     "name": "stdout",
     "output_type": "stream",
     "text": [
      "1.24.3\n",
      "1.5.1\n",
      "3.8.10 (tags/v3.8.10:3d8993a, May  3 2021, 11:48:03) [MSC v.1928 64 bit (AMD64)]\n"
     ]
    }
   ],
   "source": [
    "import numpy\n",
    "print(numpy.__version__)\n",
    "print(pd.__version__)\n",
    "import sys\n",
    "print(sys.version)"
   ]
  },
  {
   "cell_type": "code",
   "execution_count": 4,
   "id": "70f343ad",
   "metadata": {},
   "outputs": [
    {
     "name": "stdout",
     "output_type": "stream",
     "text": [
      "Current working directory: C:\\Users\\user\\Downloads\n"
     ]
    }
   ],
   "source": [
    "# Get the current working directory\n",
    "cwd = os.getcwd()\n",
    "\n",
    "# Print the current working directory\n",
    "print(\"Current working directory:\", cwd)\n"
   ]
  },
  {
   "cell_type": "code",
   "execution_count": 5,
   "id": "294faa55",
   "metadata": {},
   "outputs": [],
   "source": [
    "DATA_DIR = '..\\data'\n",
    "OUTPUT_DIR = '..\\output'\n",
    "PATEX_DIR = 'C:\\\\Users\\\\user\\\\Downloads\\\\BulkData2023'\n",
    "PATENTSVIEW_DIR = \"C:\\\\Users\\\\user\\\\Downloads\\\\data_patentsview_20231231\"\n",
    "OUTPUT_FNAME = 'nj_univ_appl_inv_gender.csv'"
   ]
  },
  {
   "cell_type": "code",
   "execution_count": 6,
   "id": "2cfabfe9",
   "metadata": {},
   "outputs": [],
   "source": [
    "def id_rutgers_stevens_njit(df, text_col, output_col_suffix=''):\n",
    "    '''Create columns to identify if text in 'text_col' is associated with Rutgers, Stevens, or NJIT\n",
    "\n",
    "    This function is tailored for Rutgers University, Stevens Institute of Technology, and\n",
    "    New Jersey Institute of Technology. Use a set of keywords (whole words or simplified) to\n",
    "    identify if the text in 'text_col' contains the keywords assocated with each target\n",
    "    university. A binary output column, one for each target university, identifies the result\n",
    "    as True or False; to increase flexibility, add a suffix to the output columns.\n",
    "\n",
    "    Rutgers = rutgers AND (univer OR jersey)\n",
    "    Stevens = stevens AND institute\n",
    "    NJIT = jersey AND institute AND technol\n",
    "\n",
    "    :param df (dataframe): dataframe to analyze\n",
    "    :param text_col (str): column containing text w/names\n",
    "    :param output_col_suffix (str): suffix to add to end of output columns (default='')\n",
    "    :return df (dataframe): dataframe with binary output columns indicating university\n",
    "    '''\n",
    "    # lowercase text in text_col\n",
    "    df[text_col] = df[text_col].str.lower()\n",
    "    # analyze Rutgers\n",
    "    df['rutgers_'+output_col_suffix] = df[text_col].apply(lambda x: \\\n",
    "                      ('rutgers' in x) and (('univer' in x) or ('jersey' in x)))\n",
    "    # analyze Stevens\n",
    "    df['stevens_'+output_col_suffix] = df[text_col].apply(lambda x: \\\n",
    "                      ('stevens' in x) and ('institute' in x) and ('tech' in x))\n",
    "    # analyze NJIT\n",
    "    df['njit_'+output_col_suffix] = df[text_col].apply(lambda x: \\\n",
    "                      ('jersey' in x) and ('institute' in x) and ('technol' in x))\n",
    "\n",
    "    #analyse princeton\n",
    "    df['princeton_'+output_col_suffix] = df[text_col].apply(lambda x: ('princeton' in x) and ('univer' in x))\n",
    "\n",
    "    #analyse rowan\n",
    "    df['rowan_'+output_col_suffix] = df[text_col].apply(lambda x: ('rowan' in x) and ('univer' in x))\n",
    "\n",
    "    #analyse NJCU\n",
    "    df['NJCU_'+output_col_suffix] = df[text_col].apply(lambda x: ('jersey' in x) and ('city' in x) and ('univer' in x))\n",
    "\n",
    "    #analyse seton\n",
    "    df['seton_'+output_col_suffix] = df[text_col].apply(lambda x: ('seton' in x) and ('hall' in x))\n",
    "\n",
    "    #analyse saint peter's\n",
    "    df['saintPeters_'+output_col_suffix] = df[text_col].apply(lambda x: ('saint') and ('peter' in x) and ('univer' in x))\n",
    "    \n",
    "    # return updated dataframe\n",
    "    return df"
   ]
  },
  {
   "cell_type": "code",
   "execution_count": 7,
   "id": "e2c3870b-159d-450b-87eb-bedec94251b0",
   "metadata": {},
   "outputs": [],
   "source": [
    "def add_appl_owner_to_dict(appl_dict, appl_id, owner):\n",
    "    '''Add the owner of an application to a dictionary.\n",
    "    \n",
    "    The dictionary key is an application number, and values are a set of owners for that application. \n",
    "    The use of sets precludes duplicates. Use data type to ignore blank values (e.g., NaN for an owner). \n",
    "    Note: we do not use a defaultdict to simplify the later conversion to a pandas dataframe.\n",
    "    :param appl_dict (dict of sets): initial application owner dictionary \n",
    "    :param appl_id (str): application number\n",
    "    :param owner (str): either an individual applicant or assignee of an application\n",
    "    :return appl_dict (dict of sets): updated applicaton owner dictionary    \n",
    "    '''\n",
    "    # check if input application id is a string\n",
    "    if type(appl_id)==str:\n",
    "        # if application id is not in dictionary keys then add it to the dict w/empty set\n",
    "        if appl_id not in appl_dict.keys(): appl_dict[appl_id] = set()\n",
    "        # if input owner is a string, add to set for that application \n",
    "        if type(owner)==str: appl_dict[appl_id].add(owner)\n",
    "    return appl_dict"
   ]
  },
  {
   "cell_type": "code",
   "execution_count": 8,
   "id": "ad603000",
   "metadata": {},
   "outputs": [
    {
     "name": "stdout",
     "output_type": "stream",
     "text": [
      "C:\\Users\\user\\Downloads\\BulkData2023\\all_applicants.csv\n"
     ]
    }
   ],
   "source": [
    "# set filepath to PatEx applicant data csv file\n",
    "filepath = os_path.join(PATEX_DIR, 'all_applicants.csv')\n",
    "print(filepath)"
   ]
  },
  {
   "cell_type": "code",
   "execution_count": 9,
   "id": "a17d6752",
   "metadata": {},
   "outputs": [
    {
     "name": "stdout",
     "output_type": "stream",
     "text": [
      "application_number,applicant_organization,applicant_name_first,applicant_name_middle,applicant_name_last,applicant_city_name,applicant_region_code,applicant_country_code\n",
      "10470614,,Societe Franco-Belge de Fabrication de,,Combustile - FBFC,Courbevoie,,FR\n"
     ]
    }
   ],
   "source": [
    "with open(filepath, 'r') as file:\n",
    "    for _ in range(2):\n",
    "        print(file.readline(), end='')"
   ]
  },
  {
   "cell_type": "code",
   "execution_count": 10,
   "id": "fe57df85",
   "metadata": {},
   "outputs": [],
   "source": [
    "applicant_df = pd.read_csv(filepath,\n",
    "                           header=0,\n",
    "                           dtype=str,\n",
    "                           keep_default_na=False)"
   ]
  },
  {
   "cell_type": "code",
   "execution_count": 11,
   "id": "aa0f4c80",
   "metadata": {},
   "outputs": [
    {
     "data": {
      "text/html": [
       "<div>\n",
       "<style scoped>\n",
       "    .dataframe tbody tr th:only-of-type {\n",
       "        vertical-align: middle;\n",
       "    }\n",
       "\n",
       "    .dataframe tbody tr th {\n",
       "        vertical-align: top;\n",
       "    }\n",
       "\n",
       "    .dataframe thead th {\n",
       "        text-align: right;\n",
       "    }\n",
       "</style>\n",
       "<table border=\"1\" class=\"dataframe\">\n",
       "  <thead>\n",
       "    <tr style=\"text-align: right;\">\n",
       "      <th></th>\n",
       "      <th>count</th>\n",
       "      <th>unique</th>\n",
       "      <th>top</th>\n",
       "      <th>freq</th>\n",
       "    </tr>\n",
       "  </thead>\n",
       "  <tbody>\n",
       "    <tr>\n",
       "      <th>application_number</th>\n",
       "      <td>6752288</td>\n",
       "      <td>5171923</td>\n",
       "      <td>PCT/US07/22376</td>\n",
       "      <td>80</td>\n",
       "    </tr>\n",
       "    <tr>\n",
       "      <th>applicant_organization</th>\n",
       "      <td>6752288</td>\n",
       "      <td>516808</td>\n",
       "      <td></td>\n",
       "      <td>1478181</td>\n",
       "    </tr>\n",
       "    <tr>\n",
       "      <th>applicant_name_first</th>\n",
       "      <td>6752288</td>\n",
       "      <td>83274</td>\n",
       "      <td></td>\n",
       "      <td>5318970</td>\n",
       "    </tr>\n",
       "    <tr>\n",
       "      <th>applicant_name_middle</th>\n",
       "      <td>6752288</td>\n",
       "      <td>25341</td>\n",
       "      <td></td>\n",
       "      <td>6032893</td>\n",
       "    </tr>\n",
       "    <tr>\n",
       "      <th>applicant_name_last</th>\n",
       "      <td>6752288</td>\n",
       "      <td>208738</td>\n",
       "      <td></td>\n",
       "      <td>5274212</td>\n",
       "    </tr>\n",
       "    <tr>\n",
       "      <th>applicant_city_name</th>\n",
       "      <td>6752288</td>\n",
       "      <td>131561</td>\n",
       "      <td>Tokyo</td>\n",
       "      <td>295517</td>\n",
       "    </tr>\n",
       "    <tr>\n",
       "      <th>applicant_region_code</th>\n",
       "      <td>6752288</td>\n",
       "      <td>267</td>\n",
       "      <td></td>\n",
       "      <td>2610661</td>\n",
       "    </tr>\n",
       "    <tr>\n",
       "      <th>applicant_country_code</th>\n",
       "      <td>6752288</td>\n",
       "      <td>255</td>\n",
       "      <td>US</td>\n",
       "      <td>3060352</td>\n",
       "    </tr>\n",
       "  </tbody>\n",
       "</table>\n",
       "</div>"
      ],
      "text/plain": [
       "                          count   unique             top     freq\n",
       "application_number      6752288  5171923  PCT/US07/22376       80\n",
       "applicant_organization  6752288   516808                  1478181\n",
       "applicant_name_first    6752288    83274                  5318970\n",
       "applicant_name_middle   6752288    25341                  6032893\n",
       "applicant_name_last     6752288   208738                  5274212\n",
       "applicant_city_name     6752288   131561           Tokyo   295517\n",
       "applicant_region_code   6752288      267                  2610661\n",
       "applicant_country_code  6752288      255              US  3060352"
      ]
     },
     "execution_count": 11,
     "metadata": {},
     "output_type": "execute_result"
    }
   ],
   "source": [
    "# describe the dataframe (using transpose() put the output in a more readable format)\n",
    "applicant_df.describe().transpose()"
   ]
  },
  {
   "cell_type": "code",
   "execution_count": 12,
   "id": "93ad619b",
   "metadata": {},
   "outputs": [
    {
     "name": "stdout",
     "output_type": "stream",
     "text": [
      "Number of rows before US NJ filter: 6,752,288\n",
      "Number of rows after US NJ filter: 122,653\n"
     ]
    }
   ],
   "source": [
    "# filter data to keep only US and NJ applicants\n",
    "print('Number of rows before US NJ filter: {:,}'.format(len(applicant_df)))\n",
    "\n",
    "applicant_df = applicant_df.loc[(applicant_df['applicant_country_code']=='US') & \\\n",
    "                                (applicant_df['applicant_region_code']=='NJ')]\n",
    "\n",
    "print('Number of rows after US NJ filter: {:,}'.format(len(applicant_df)))"
   ]
  },
  {
   "cell_type": "code",
   "execution_count": 13,
   "id": "c939a6d4",
   "metadata": {},
   "outputs": [],
   "source": [
    "# create column for application series code\n",
    "applicant_df['series'] = applicant_df['application_number'].apply(lambda x: x[0:2])"
   ]
  },
  {
   "cell_type": "code",
   "execution_count": 14,
   "id": "056d27dd",
   "metadata": {},
   "outputs": [
    {
     "name": "stdout",
     "output_type": "stream",
     "text": [
      "Number of rows before PCT filter: 122,653\n",
      "Number of rows after PCT filter: 34,269\n"
     ]
    }
   ],
   "source": [
    "# filter data to remove PCT applications -- begins with \"PCT\" and hence the series from above = \"PC\"\n",
    "print('Number of rows before PCT filter: {:,}'.format(len(applicant_df)))\n",
    "\n",
    "applicant_df = applicant_df.loc[applicant_df['series']!='PC']\n",
    "\n",
    "print('Number of rows after PCT filter: {:,}'.format(len(applicant_df)))"
   ]
  },
  {
   "cell_type": "code",
   "execution_count": 15,
   "id": "4d3f5a76",
   "metadata": {},
   "outputs": [],
   "source": [
    "# create combined applicant string - each column separated by a space\n",
    "# (note: using the python .join() function would be more complicated due to our using dataframes;\n",
    "#        hence, use a simple concatenation)\n",
    "applicant_df['applicant_combined'] = applicant_df['applicant_organization'] + ' ' + \\\n",
    "                                     applicant_df['applicant_name_first'] + ' ' + \\\n",
    "                                     applicant_df['applicant_name_middle'] + ' ' + \\\n",
    "                                     applicant_df['applicant_name_last']"
   ]
  },
  {
   "cell_type": "code",
   "execution_count": 16,
   "id": "1dd61be1",
   "metadata": {},
   "outputs": [],
   "source": [
    "# identify applications having Rutgers, Stevens, or NJIT\n",
    "applicant_df = id_rutgers_stevens_njit(applicant_df, 'applicant_combined', output_col_suffix='app')"
   ]
  },
  {
   "cell_type": "code",
   "execution_count": 17,
   "id": "887ab37e",
   "metadata": {},
   "outputs": [
    {
     "name": "stdout",
     "output_type": "stream",
     "text": [
      "Number of Rutgers applications: 612\n",
      "Number of Stevens applications: 96\n",
      "Number of NJIT applications: 103\n",
      "Number of princeton applications: 422\n",
      "Number of rowan applications: 69\n",
      "Number of NJCU applications: 0\n",
      "Number of seton applications: 7\n",
      "Number of saintPeters applications: 0\n"
     ]
    }
   ],
   "source": [
    "# summarize results\n",
    "print('Number of Rutgers applications: {:,}'.format(len(applicant_df.loc[applicant_df['rutgers_app']==True])))\n",
    "print('Number of Stevens applications: {:,}'.format(len(applicant_df.loc[applicant_df['stevens_app']==True])))\n",
    "print('Number of NJIT applications: {:,}'.format(len(applicant_df.loc[applicant_df['njit_app']==True])))\n",
    "print('Number of princeton applications: {:,}'.format(len(applicant_df.loc[applicant_df['princeton_app']==True])))\n",
    "print('Number of rowan applications: {:,}'.format(len(applicant_df.loc[applicant_df['rowan_app']==True])))\n",
    "print('Number of NJCU applications: {:,}'.format(len(applicant_df.loc[applicant_df['NJCU_app']==True])))\n",
    "print('Number of seton applications: {:,}'.format(len(applicant_df.loc[applicant_df['seton_app']==True])))\n",
    "print('Number of saintPeters applications: {:,}'.format(len(applicant_df.loc[applicant_df['saintPeters_app']==True])))"
   ]
  },
  {
   "cell_type": "code",
   "execution_count": 18,
   "id": "460a6af0",
   "metadata": {},
   "outputs": [
    {
     "name": "stdout",
     "output_type": "stream",
     "text": [
      "Applicant names for rutgers_app\n",
      "----------------------\n",
      "rutgers, the state university of new jersey              585\n",
      "   rutgers, the state university of new jersey             4\n",
      "rutgers, the state university                              4\n",
      "rutgers university                                         4\n",
      "rutgers,the state university of new jersey                 3\n",
      " rutgers, the state university of  new jersey              2\n",
      "rutgers the state university of new jersey                 2\n",
      " rutgers, the state  university of new jersey              1\n",
      "  rutgers, the state university of new jersey              1\n",
      "rutgers, the state of university of new jersey             1\n",
      "rutgers, the state univeristy of new jersey                1\n",
      "rutgers, the state university of new jersy                 1\n",
      "rutgers, the state of new jersey                           1\n",
      "rutgers , the state university of new jersey               1\n",
      "rutgers, the state university of new jersey; offic         1\n",
      "Name: applicant_combined, dtype: int64\n",
      "\n",
      "Applicant names for stevens_app\n",
      "----------------------\n",
      "the trustees of the stevens institute of technolog       81\n",
      "stevens institute of technology                           9\n",
      "the stevens institute of technology                       2\n",
      " the trustees of the stevens  institute of technology     1\n",
      " the trustees of the stevens institute of technology      1\n",
      "the trustees of the stevens institutes of technolo        1\n",
      "the trustees of stevens institute of technology           1\n",
      "Name: applicant_combined, dtype: int64\n",
      "\n",
      "Applicant names for njit_app\n",
      "----------------------\n",
      "new jersey institute of technology       103\n",
      "Name: applicant_combined, dtype: int64\n",
      "\n",
      "Applicant names for princeton_app\n",
      "----------------------\n",
      "the trustees of princeton university                     358\n",
      "princeton university                                      29\n",
      "trustees of princeton university                          14\n",
      "   the trustees of princeton university                   12\n",
      "the trustees of princeton university, office of te         2\n",
      "the trustees of princeton universtiy                       2\n",
      "   princeton university                                    1\n",
      "the trustee of princeton university                        1\n",
      "princeton university office of technology and trad         1\n",
      "princeton university office of technology licensin         1\n",
      "the trustees princeton university                          1\n",
      "Name: applicant_combined, dtype: int64\n",
      "\n",
      "Applicant names for rowan_app\n",
      "----------------------\n",
      "rowan university       68\n",
      "   rowan university     1\n",
      "Name: applicant_combined, dtype: int64\n",
      "\n",
      "Applicant names for NJCU_app\n",
      "----------------------\n",
      "Series([], Name: applicant_combined, dtype: int64)\n",
      "\n",
      "Applicant names for seton_app\n",
      "----------------------\n",
      "seton hall university       6\n",
      "   seton hall university    1\n",
      "Name: applicant_combined, dtype: int64\n",
      "\n",
      "Applicant names for saintPeters_app\n",
      "----------------------\n",
      "Series([], Name: applicant_combined, dtype: int64)\n",
      "\n"
     ]
    }
   ],
   "source": [
    "# summarize the applicant names associated with the target universities\n",
    "for univ in ['rutgers_app', 'stevens_app', 'njit_app','princeton_app','rowan_app','NJCU_app','seton_app','saintPeters_app']:\n",
    "    print('Applicant names for {}'.format(univ))\n",
    "    print('----------------------')\n",
    "    df = applicant_df.loc[applicant_df[univ]==True]\n",
    "    print(df['applicant_combined'].value_counts())\n",
    "    print()"
   ]
  },
  {
   "cell_type": "code",
   "execution_count": 19,
   "id": "5272de00-6e71-4914-a2a7-26106fbeafeb",
   "metadata": {},
   "outputs": [
    {
     "name": "stdout",
     "output_type": "stream",
     "text": [
      "Number of rows before removing non-target universities: 34,269\n",
      "Number of rows after removing non-target universities: 1,309\n"
     ]
    }
   ],
   "source": [
    "## keep only observations w/target universities\n",
    "print('Number of rows before removing non-target universities: {:,}'.format(len(applicant_df)))\n",
    "\n",
    "applicant_df = applicant_df.loc[(applicant_df['rutgers_app']==True) | \\\n",
    "                                (applicant_df['stevens_app']==True) | \\\n",
    "                                (applicant_df['njit_app']==True) | \\\n",
    "                                (applicant_df['princeton_app']==True) | \\\n",
    "                                (applicant_df['rowan_app']==True) | \\\n",
    "                                (applicant_df['NJCU_app']==True) | \\\n",
    "                                (applicant_df['seton_app']==True) | \\\n",
    "                                (applicant_df['saintPeters_app']==True)]\n",
    "\n",
    "print('Number of rows after removing non-target universities: {:,}'.format(len(applicant_df)))"
   ]
  },
  {
   "cell_type": "code",
   "execution_count": 20,
   "id": "6de636cf",
   "metadata": {},
   "outputs": [],
   "source": [
    "# keep only the columns we need\n",
    "applicant_df = applicant_df[['application_number','rutgers_app', 'stevens_app', \\\n",
    "                             'njit_app','princeton_app','rowan_app','NJCU_app','seton_app','saintPeters_app']]"
   ]
  },
  {
   "cell_type": "code",
   "execution_count": 21,
   "id": "80d2a8ce",
   "metadata": {},
   "outputs": [
    {
     "name": "stdout",
     "output_type": "stream",
     "text": [
      "Rutgers      612\n",
      "Princeton    422\n",
      "NJIT         103\n",
      "Stevens       96\n",
      "Rowan         69\n",
      "Seton          7\n",
      "Name: univ, dtype: int64\n"
     ]
    }
   ],
   "source": [
    "# create a consoldiated university variable\n",
    "applicant_df.loc[applicant_df['rutgers_app']==True,'univ'] = 'Rutgers'\n",
    "applicant_df.loc[applicant_df['stevens_app']==True,'univ'] = 'Stevens'\n",
    "applicant_df.loc[applicant_df['njit_app']==True,'univ'] = 'NJIT'\n",
    "applicant_df.loc[applicant_df['princeton_app']==True,'univ'] = 'Princeton'\n",
    "applicant_df.loc[applicant_df['rowan_app']==True,'univ'] = 'Rowan'\n",
    "applicant_df.loc[applicant_df['NJCU_app']==True,'univ'] = 'NJCU'\n",
    "applicant_df.loc[applicant_df['seton_app']==True,'univ'] = 'Seton'\n",
    "applicant_df.loc[applicant_df['saintPeters_app']==True,'univ'] = 'saintPeters'\n",
    "# print results\n",
    "print(applicant_df['univ'].value_counts())"
   ]
  },
  {
   "cell_type": "code",
   "execution_count": 22,
   "id": "418ccb1a-5682-4b62-95e4-714751935936",
   "metadata": {},
   "outputs": [
    {
     "data": {
      "text/plain": [
       "\"\\ncol_g_assignee  = ['patent_id','disambig_assignee_organization',\\n                   'disambig_assignee_individual_name_first', 'disambig_assignee_individual_name_last']\\ncol_pg_assignee = ['pgpub_id','disambig_assignee_organization',\\n                   'disambig_assignee_individual_name_first', 'disambig_assignee_individual_name_last']\\n\""
      ]
     },
     "execution_count": 22,
     "metadata": {},
     "output_type": "execute_result"
    }
   ],
   "source": [
    "# define columns we want to use (see above)\n",
    "'''\n",
    "col_g_assignee  = ['patent_id','disambig_assignee_organization',\n",
    "                   'disambig_assignee_individual_name_first', 'disambig_assignee_individual_name_last']\n",
    "col_pg_assignee = ['pgpub_id','disambig_assignee_organization',\n",
    "                   'disambig_assignee_individual_name_first', 'disambig_assignee_individual_name_last']\n",
    "'''"
   ]
  },
  {
   "cell_type": "code",
   "execution_count": 23,
   "id": "5be1805b-af57-40bc-b5ed-6ea9d72d1360",
   "metadata": {},
   "outputs": [],
   "source": [
    "# set seperator for the data files; for tsv file, use '/t'\n",
    "seperator = '\\t'"
   ]
  },
  {
   "cell_type": "code",
   "execution_count": 24,
   "id": "c5115877-a362-4e3f-abd2-31f4039f34fb",
   "metadata": {},
   "outputs": [],
   "source": [
    "# # open assignee data for patents and PGPubs as pandas dataframes\n",
    "# # - identify the header as row 0 (the first row)\n",
    "# # - specify columns we want to read via usecols option\n",
    "# # - use seperator as specified above\n",
    "# # - infer compression (default but specify this option anyway)\n",
    "# # - ensure all columns are read in as strings\n",
    "# # - option keep_default_na=False ensure we get an empty string and not NaN if a value is missing\n",
    "# patent_assignee_df = pd.read_csv(os_path.join(PATENTSVIEW_DIR,'g_assignee_disambiguated.tsv.zip'), \n",
    "#                                  header=0, \n",
    "#                                  usecols = col_g_assignee, \n",
    "#                                  sep=seperator, \n",
    "#                                  compression='infer', \n",
    "#                                  dtype=str, \n",
    "#                                  keep_default_na=False)\n",
    "# pgpub_assignee_df =  pd.read_csv(os_path.join(PATENTSVIEW_DIR,'pg_assignee_disambiguated.tsv.zip'), \n",
    "#                                  header=0, \n",
    "#                                  usecols = col_pg_assignee,\n",
    "#                                  sep=seperator, \n",
    "#                                  compression='infer', \n",
    "#                                  dtype=str, \n",
    "#                                  keep_default_na=False)"
   ]
  },
  {
   "cell_type": "code",
   "execution_count": 25,
   "id": "3efcaf13-57b4-4a4e-8e62-306576897601",
   "metadata": {},
   "outputs": [],
   "source": [
    "# # as before, create a string combining all assignee name information\n",
    "# patent_assignee_df['assignee_combined'] = patent_assignee_df['disambig_assignee_organization'] + ' ' + \\\n",
    "#                                           patent_assignee_df['disambig_assignee_individual_name_first'] + ' ' + \\\n",
    "#                                           patent_assignee_df['disambig_assignee_individual_name_last']\n",
    "# pgpub_assignee_df['assignee_combined']  = pgpub_assignee_df['disambig_assignee_organization'] + ' ' + \\\n",
    "#                                           pgpub_assignee_df['disambig_assignee_individual_name_first'] + ' ' + \\\n",
    "#                                           pgpub_assignee_df['disambig_assignee_individual_name_last']"
   ]
  },
  {
   "cell_type": "code",
   "execution_count": 26,
   "id": "83faae9b-7908-43ee-8320-e4d5844e5f14",
   "metadata": {},
   "outputs": [],
   "source": [
    "# # identify if target universities -- patents \n",
    "# patent_assignee_df = id_rutgers_stevens_njit(patent_assignee_df, \n",
    "#                                              'assignee_combined', \n",
    "#                                              output_col_suffix='asg_patent')"
   ]
  },
  {
   "cell_type": "code",
   "execution_count": 27,
   "id": "86532bdd-ab3f-4a2d-bdbb-36650ad605dd",
   "metadata": {},
   "outputs": [],
   "source": [
    "# # identify if target universities -- pgpubs\n",
    "# pgpub_assignee_df  = id_rutgers_stevens_njit(pgpub_assignee_df, \n",
    "#                                              'assignee_combined', \n",
    "#                                              output_col_suffix='asg_pgpub')"
   ]
  },
  {
   "cell_type": "code",
   "execution_count": 28,
   "id": "a09142ef-1080-4459-b393-478e68bfadbb",
   "metadata": {},
   "outputs": [],
   "source": [
    "# # summarize the assignee names associated with the target universities - patents\n",
    "# for univ in ['rutgers_asg_patent', 'stevens_asg_patent', 'njit_asg_patent','princeton_asg_patent','rowan_asg_patent','seton_asg_patent','NJCU_asg_patent','saintPeters_asg_patent']:\n",
    "#     print('Assignee names for {}'.format(univ))\n",
    "#     print('----------------------')\n",
    "#     df = patent_assignee_df.loc[patent_assignee_df[univ]==True]\n",
    "#     print(df['disambig_assignee_organization'].value_counts())\n",
    "#     print()"
   ]
  },
  {
   "cell_type": "code",
   "execution_count": 29,
   "id": "2d827c4f-d82e-4a09-8786-75a0f8be3a73",
   "metadata": {},
   "outputs": [],
   "source": [
    "# # summarize the assignee names associated with the target universities - pgpubs\n",
    "# for univ in ['rutgers_asg_pgpub', 'stevens_asg_pgpub', 'njit_asg_pgpub','princeton_asg_pgpub','rowan_asg_pgpub','NJCU_asg_pgpub','seton_asg_pgpub','saintPeters_asg_pgpub']:\n",
    "#     print('Assignee names for {}'.format(univ))\n",
    "#     print('----------------------')\n",
    "#     df = pgpub_assignee_df.loc[pgpub_assignee_df[univ]==True]\n",
    "#     print(df['disambig_assignee_organization'].value_counts())\n",
    "#     print()"
   ]
  },
  {
   "cell_type": "code",
   "execution_count": 30,
   "id": "5460f052-4687-4c69-835b-802cd0884dfa",
   "metadata": {},
   "outputs": [],
   "source": [
    "# # keep only observations w/target universities - patents\n",
    "# print('PATENTS')\n",
    "# print('Number of rows before removing non-target universities: {:,}'.format(len(patent_assignee_df)))\n",
    "\n",
    "# patent_assignee_df = patent_assignee_df.loc[(patent_assignee_df['rutgers_asg_patent']==True) | \\\n",
    "#                                             (patent_assignee_df['stevens_asg_patent']==True) | \\\n",
    "#                                             (patent_assignee_df['njit_asg_patent']==True)    | \\\n",
    "#                                             (patent_assignee_df['princeton_asg_patent']==True) | \\\n",
    "#                                             (patent_assignee_df['rowan_asg_patent']==True) | \\\n",
    "#                                             (patent_assignee_df['NJCU_asg_patent']==True) | \\\n",
    "#                                             (patent_assignee_df['seton_asg_patent']==True) | \\\n",
    "#                                             (patent_assignee_df['saintPeters_asg_patent']==True)]\n",
    "# print('Number of rows after removing non-target universities: {:,}'.format(len(patent_assignee_df)))"
   ]
  },
  {
   "cell_type": "code",
   "execution_count": 31,
   "id": "8a16ad91-923f-4a0c-89f8-655cc8b125b3",
   "metadata": {},
   "outputs": [],
   "source": [
    "# # keep only observations w/target universities - pgpubs\n",
    "# print('PGPUBS')\n",
    "# print('Number of rows before removing non-target universities: {:,}'.format(len(pgpub_assignee_df)))\n",
    "\n",
    "# pgpub_assignee_df = pgpub_assignee_df.loc[(pgpub_assignee_df['rutgers_asg_pgpub']==True) | \\\n",
    "#                                           (pgpub_assignee_df['stevens_asg_pgpub']==True) | \\\n",
    "#                                           (pgpub_assignee_df['njit_asg_pgpub']==True)    | \\\n",
    "#                                           (pgpub_assignee_df['rowan_asg_pgpub']==True)    | \\\n",
    "#                                           (pgpub_assignee_df['princeton_asg_pgpub']==True)    | \\\n",
    "#                                           (pgpub_assignee_df['NJCU_asg_pgpub']==True)    | \\\n",
    "#                                           (pgpub_assignee_df['seton_asg_pgpub']==True)    | \\\n",
    "#                                           (pgpub_assignee_df['saintPeters_asg_pgpub']==True)]\n",
    "\n",
    "# print('Number of rows after removing non-target universities: {:,}'.format(len(pgpub_assignee_df)))"
   ]
  },
  {
   "cell_type": "code",
   "execution_count": 32,
   "id": "7c0d5908-096e-47c3-8377-2fd18e2a5597",
   "metadata": {},
   "outputs": [],
   "source": [
    "# # keep only the columns we need \n",
    "# patent_assignee_df = patent_assignee_df[['patent_id','rutgers_asg_patent','stevens_asg_patent','njit_asg_patent','princeton_asg_patent','rowan_asg_patent','NJCU_asg_patent','seton_asg_patent','saintPeters_asg_patent']]\n",
    "# pgpub_assignee_df = pgpub_assignee_df[['pgpub_id','rutgers_asg_pgpub','stevens_asg_pgpub','njit_asg_pgpub','rowan_asg_pgpub','princeton_asg_pgpub','NJCU_asg_pgpub','seton_asg_pgpub','saintPeters_asg_pgpub']]"
   ]
  },
  {
   "cell_type": "code",
   "execution_count": 33,
   "id": "5190fb7d-361a-4ae8-8158-b19ef1e2ac0a",
   "metadata": {},
   "outputs": [],
   "source": [
    "# # create a consoldiated university variable - patents\n",
    "# patent_assignee_df.loc[patent_assignee_df['rutgers_asg_patent']==True,'univ_asg_patent'] = 'Rutgers'\n",
    "# patent_assignee_df.loc[patent_assignee_df['stevens_asg_patent']==True,'univ_asg_patent'] = 'Stevens'\n",
    "# patent_assignee_df.loc[patent_assignee_df['njit_asg_patent']==True,'univ_asg_patent'] = 'NJIT'\n",
    "# patent_assignee_df.loc[patent_assignee_df['princeton_asg_patent']==True,'univ_asg_patent'] = 'Princeton'\n",
    "# patent_assignee_df.loc[patent_assignee_df['rowan_asg_patent']==True,'univ_asg_patent'] = 'Rowan'\n",
    "# patent_assignee_df.loc[patent_assignee_df['NJCU_asg_patent']==True,'univ_asg_patent'] = 'NJCU'\n",
    "# patent_assignee_df.loc[patent_assignee_df['seton_asg_patent']==True,'univ_asg_patent'] = 'Seton'\n",
    "# patent_assignee_df.loc[patent_assignee_df['saintPeters_asg_patent']==True,'univ_asg_patent'] = 'SaintPeters'\n",
    "\n",
    "# # print results \n",
    "# print('PATENTS')\n",
    "# print(patent_assignee_df['univ_asg_patent'].value_counts())"
   ]
  },
  {
   "cell_type": "code",
   "execution_count": 34,
   "id": "9162b6e8-a21a-455e-978d-af0f48ba2aa4",
   "metadata": {},
   "outputs": [],
   "source": [
    "# # create a consoldiated university variable - pgpubs\n",
    "# pgpub_assignee_df.loc[pgpub_assignee_df['rutgers_asg_pgpub']==True,'univ_asg_pgpub'] = 'Rutgers'\n",
    "# pgpub_assignee_df.loc[pgpub_assignee_df['stevens_asg_pgpub']==True,'univ_asg_pgpub'] = 'Stevens'\n",
    "# pgpub_assignee_df.loc[pgpub_assignee_df['njit_asg_pgpub']==True,'univ_asg_pgpub'] = 'NJIT'\n",
    "# pgpub_assignee_df.loc[pgpub_assignee_df['princeton_asg_pgpub']==True,'univ_asg_pgpub'] = 'Princeton'\n",
    "# pgpub_assignee_df.loc[pgpub_assignee_df['rowan_asg_pgpub']==True,'univ_asg_pgpub'] = 'Rowan'\n",
    "# pgpub_assignee_df.loc[pgpub_assignee_df['NJCU_asg_pgpub']==True,'univ_asg_pgpub'] = 'NJCU'\n",
    "# pgpub_assignee_df.loc[pgpub_assignee_df['seton_asg_pgpub']==True,'univ_asg_pgpub'] = 'Seton'\n",
    "# pgpub_assignee_df.loc[pgpub_assignee_df['saintPeters_asg_pgpub']==True,'univ_asg_pgpub'] = 'SaintPeters'\n",
    "\n",
    "# # print results \n",
    "# print('PGPUBS')\n",
    "# print(pgpub_assignee_df['univ_asg_pgpub'].value_counts())"
   ]
  },
  {
   "cell_type": "code",
   "execution_count": 35,
   "id": "252945cb-a6ca-498f-b5d2-6561e1f31fb0",
   "metadata": {},
   "outputs": [],
   "source": [
    "# # define columns we want to use (see above)\n",
    "# col_g_appln = ['patent_id','application_id']\n",
    "# col_pg_appln = ['pgpub_id','application_id']"
   ]
  },
  {
   "cell_type": "code",
   "execution_count": 36,
   "id": "10e742e4-a449-42e8-a5f3-4db1d113fce6",
   "metadata": {},
   "outputs": [],
   "source": [
    "# set separator for .tsv file\n",
    "seperator = '\\t'"
   ]
  },
  {
   "cell_type": "code",
   "execution_count": 37,
   "id": "151c5965-bb9a-4740-b709-27016bf92f7a",
   "metadata": {},
   "outputs": [],
   "source": [
    "# # open data for patents and PGPubs as pandas dataframes\n",
    "# # - identify the header as row 0 (the first row)\n",
    "# # - specify columns we want to read via usecols option\n",
    "# # - use same seperator as above\n",
    "# # - infer compression (default but specify this option anyway)\n",
    "# # - ensure all columns are read in as strings\n",
    "# # - option keep_default_na=False ensure we get an empty string and not NaN if a value is missing\n",
    "# patent_appln_df = pd.read_csv(os_path.join(PATENTSVIEW_DIR,'g_application.tsv.zip'), \n",
    "#                                  header=0, \n",
    "#                                  usecols = col_g_appln, \n",
    "#                                  sep=seperator, \n",
    "#                                  compression='infer', \n",
    "#                                  dtype=str, \n",
    "#                                  keep_default_na=False)\n",
    "# pgpub_appln_df =  pd.read_csv(os_path.join(PATENTSVIEW_DIR,'pg_published_application.tsv.zip'), \n",
    "#                                  header=0, \n",
    "#                                  usecols = col_pg_appln,\n",
    "#                                  sep=seperator, \n",
    "#                                  compression='infer', \n",
    "#                                  dtype=str, \n",
    "#                                  keep_default_na=False)"
   ]
  },
  {
   "cell_type": "code",
   "execution_count": 38,
   "id": "213d918a-035c-41d8-83b5-bd360f93d54e",
   "metadata": {},
   "outputs": [],
   "source": [
    "# # left join assignee dataframe (left table) to application dataframe (right table) -- patents \n",
    "# # use indicator=True to filter results \n",
    "# patent_assignee_df = patent_assignee_df.merge(patent_appln_df, \n",
    "#                                               how='left', \n",
    "#                                               on='patent_id', \n",
    "#                                               indicator=True)\n",
    "# # print merge results \n",
    "# patent_assignee_df['_merge'].value_counts()"
   ]
  },
  {
   "cell_type": "code",
   "execution_count": 39,
   "id": "50206637-d57b-4b65-8fb3-552dfe8f2df7",
   "metadata": {},
   "outputs": [],
   "source": [
    "# # keep _merge=='both'\n",
    "# patent_assignee_df = patent_assignee_df.loc[patent_assignee_df['_merge']=='both']\n",
    "# # drop _merge column\n",
    "# patent_assignee_df.drop(columns=['_merge'], inplace=True)"
   ]
  },
  {
   "cell_type": "code",
   "execution_count": 40,
   "id": "0c8b4a31-4dac-4614-af6d-ea4c80aed7ea",
   "metadata": {},
   "outputs": [],
   "source": [
    "# # left join assignee dataframe (left table) to application dataframe (right table) -- pgpubs \n",
    "# # use indicator=True to filter results \n",
    "# pgpub_assignee_df = pgpub_assignee_df.merge(pgpub_appln_df, \n",
    "#                                             how='inner', \n",
    "#                                             on='pgpub_id', \n",
    "#                                             indicator=True)\n",
    "# # print merge results \n",
    "# pgpub_assignee_df['_merge'].value_counts()"
   ]
  },
  {
   "cell_type": "code",
   "execution_count": 41,
   "id": "ec154501-5c9b-4680-a765-bda5f19b78ae",
   "metadata": {},
   "outputs": [],
   "source": [
    "# # keep _merge=='both'\n",
    "# pgpub_assignee_df = pgpub_assignee_df.loc[pgpub_assignee_df['_merge']=='both']\n",
    "# # drop _merge column\n",
    "# pgpub_assignee_df.drop(columns=['_merge'], inplace=True)"
   ]
  },
  {
   "cell_type": "code",
   "execution_count": 42,
   "id": "52c3efe6-4ecc-4302-928c-c0d5a46701fa",
   "metadata": {},
   "outputs": [],
   "source": [
    "# # print size of assignee dataframes \n",
    "# print('Number patents having target universities as assignee: {:,}'.format(len(patent_assignee_df)))\n",
    "# print('Number PGPubs having target universities as assignee: {:,}'.format(len(pgpub_assignee_df)))"
   ]
  },
  {
   "cell_type": "code",
   "execution_count": 43,
   "id": "b035e850-663a-4124-8756-3164cea9f61e",
   "metadata": {},
   "outputs": [],
   "source": [
    "# initialize the dictionary\n",
    "appl_dict = {}"
   ]
  },
  {
   "cell_type": "code",
   "execution_count": 44,
   "id": "f120d061-aefd-4e97-8c6d-069501432703",
   "metadata": {},
   "outputs": [],
   "source": [
    "# process applicant data by looping through each row of the dataframe\n",
    "# and calling the function add_appl_owner_to_dict \n",
    "for i in range(0,len(applicant_df)): \n",
    "    appl_dict = add_appl_owner_to_dict(appl_dict, \n",
    "                                       applicant_df.iloc[i]['application_number'], \n",
    "                                       applicant_df.iloc[i]['univ'])"
   ]
  },
  {
   "cell_type": "code",
   "execution_count": 45,
   "id": "2b072776-88df-44d8-a30a-e20a80eafa15",
   "metadata": {},
   "outputs": [],
   "source": [
    "# # similarly process patent assignee data; note different column names \n",
    "# for i in range(0,len(patent_assignee_df)): \n",
    "#     appl_dict = add_appl_owner_to_dict(appl_dict, \n",
    "#                                        patent_assignee_df.iloc[i]['application_id'], \n",
    "#                                        patent_assignee_df.iloc[i]['univ_asg_patent'])"
   ]
  },
  {
   "cell_type": "code",
   "execution_count": 46,
   "id": "1e61b646-29ad-4816-9564-4b26047a85df",
   "metadata": {},
   "outputs": [],
   "source": [
    "# # similarly process pgpub assignee data; note different column names \n",
    "# for i in range(0,len(pgpub_assignee_df)): \n",
    "#     appl_dict = add_appl_owner_to_dict(appl_dict, \n",
    "#                                        pgpub_assignee_df.iloc[i]['application_id'], \n",
    "#                                        pgpub_assignee_df.iloc[i]['univ_asg_pgpub'])"
   ]
  },
  {
   "cell_type": "code",
   "execution_count": 47,
   "id": "b51ac809-0a3e-44e1-8b9d-c332fc800953",
   "metadata": {},
   "outputs": [
    {
     "name": "stdout",
     "output_type": "stream",
     "text": [
      "Length of application ID list: 1,291\n",
      "Length of university list: 1,291\n"
     ]
    }
   ],
   "source": [
    "# to faciliate creating a dataframe, create two lists, one for application IDs and another for universities, \n",
    "# where the set of university names is converted to a list\n",
    "appl_list = []\n",
    "univ_list = []\n",
    "for key, value in appl_dict.items():\n",
    "    appl_list.append(key)\n",
    "    univ_list.append(list(value))\n",
    "# verify length of the two list are the same \n",
    "n_appl_list = len(appl_list)\n",
    "n_univ_list = len(univ_list)\n",
    "print('Length of application ID list: {:,}'.format(n_appl_list))\n",
    "print('Length of university list: {:,}'.format(n_univ_list))\n",
    "if n_appl_list!=n_univ_list: \n",
    "    raise ValueError('# applications do not equal length of university list')"
   ]
  },
  {
   "cell_type": "code",
   "execution_count": 48,
   "id": "dd0a9f90-5428-4691-811a-5b74bcd5008e",
   "metadata": {},
   "outputs": [],
   "source": [
    "# create dataframe \n",
    "nj_univ_df = pd.DataFrame({'application_number': appl_list, 'univ_list': univ_list})"
   ]
  },
  {
   "cell_type": "code",
   "execution_count": 49,
   "id": "14878634-6afc-4d7e-a6e2-ee6c483ac5be",
   "metadata": {},
   "outputs": [],
   "source": [
    "# create column for application series code\n",
    "nj_univ_df['series'] = nj_univ_df['application_number'].apply(lambda x: x[0:2]) "
   ]
  },
  {
   "cell_type": "code",
   "execution_count": 50,
   "id": "dbb51a18-6499-48b5-ad83-1e38bc319bea",
   "metadata": {},
   "outputs": [
    {
     "name": "stdout",
     "output_type": "stream",
     "text": [
      "Number of rows before PCT filter: 1,291\n",
      "Number of rows after PCT filter: 1,291\n"
     ]
    }
   ],
   "source": [
    "# filter data to remove PCT applications -- begins with \"PCT\" and hence the series from above = \"PC\"\n",
    "print('Number of rows before PCT filter: {:,}'.format(len(nj_univ_df)))\n",
    "nj_univ_df = nj_univ_df.loc[nj_univ_df['series']!='PC']\n",
    "print('Number of rows after PCT filter: {:,}'.format(len(nj_univ_df)))"
   ]
  },
  {
   "cell_type": "code",
   "execution_count": 51,
   "id": "574b0f23-2d33-4eda-9ce7-4e82bf575f9d",
   "metadata": {},
   "outputs": [
    {
     "data": {
      "text/plain": [
       "12      1\n",
       "13     73\n",
       "14    268\n",
       "15    228\n",
       "16    268\n",
       "17    271\n",
       "18     32\n",
       "61     13\n",
       "62     96\n",
       "63     41\n",
       "Name: series, dtype: int64"
      ]
     },
     "execution_count": 51,
     "metadata": {},
     "output_type": "execute_result"
    }
   ],
   "source": [
    "# print series -- value_counts (pandas 1.5) outputs a pandas series whose index are the series codes\n",
    "nj_univ_df['series'].value_counts().sort_index()"
   ]
  },
  {
   "cell_type": "code",
   "execution_count": 52,
   "id": "557b261d-1913-499b-b66a-4887920e27cc",
   "metadata": {},
   "outputs": [
    {
     "data": {
      "text/plain": [
       "[NJIT]                   99\n",
       "[Princeton]             419\n",
       "[Princeton, Rutgers]      2\n",
       "[Rowan]                  69\n",
       "[Rutgers]               595\n",
       "[Rutgers, NJIT]           4\n",
       "[Seton]                   7\n",
       "[Stevens]                85\n",
       "[Stevens, Rutgers]       11\n",
       "Name: univ_list, dtype: int64"
      ]
     },
     "execution_count": 52,
     "metadata": {},
     "output_type": "execute_result"
    }
   ],
   "source": [
    "# print universities -- these will include those with multiple university owners \n",
    "nj_univ_df['univ_list'].value_counts().sort_index()"
   ]
  },
  {
   "cell_type": "code",
   "execution_count": 53,
   "id": "6bb43617-746d-418c-80f7-8abf6ca98b1b",
   "metadata": {},
   "outputs": [
    {
     "name": "stdout",
     "output_type": "stream",
     "text": [
      "Before pandas explode()\n",
      "                         325\n",
      "application_number  14777191\n",
      "univ_list             [NJIT]\n",
      "series                    14\n"
     ]
    }
   ],
   "source": [
    "# to illustrate the next step, look at application '14777191' as an example\n",
    "print('Before pandas explode()')\n",
    "print(nj_univ_df.loc[nj_univ_df['application_number']=='14777191'].transpose())"
   ]
  },
  {
   "cell_type": "code",
   "execution_count": 54,
   "id": "3a5b6e6b-edd6-470d-9545-6463fdbd66b9",
   "metadata": {},
   "outputs": [
    {
     "name": "stdout",
     "output_type": "stream",
     "text": [
      "Number rows prior to breaking apart university lists: 1,291\n",
      "Number rows after breaking apart university lists: 1,308\n"
     ]
    }
   ],
   "source": [
    "# use pandas explode() to break apart multiple universities into seperate rows (keeping same application ID)\n",
    "print('Number rows prior to breaking apart university lists: {:,}'.format(len(nj_univ_df)))\n",
    "nj_univ_df = nj_univ_df.explode('univ_list')\n",
    "print('Number rows after breaking apart university lists: {:,}'.format(len(nj_univ_df)))"
   ]
  },
  {
   "cell_type": "code",
   "execution_count": 55,
   "id": "c8b53b88-11c7-49b2-868c-1a5333be008e",
   "metadata": {},
   "outputs": [
    {
     "name": "stdout",
     "output_type": "stream",
     "text": [
      "After pandas explode()\n",
      "                         325\n",
      "application_number  14777191\n",
      "univ_list               NJIT\n",
      "series                    14\n"
     ]
    }
   ],
   "source": [
    "print('After pandas explode()')\n",
    "print(nj_univ_df.loc[nj_univ_df['application_number']=='14777191'].transpose())"
   ]
  },
  {
   "cell_type": "code",
   "execution_count": 56,
   "id": "32f5f18f-e301-46a6-8c84-e4eb3955c849",
   "metadata": {},
   "outputs": [
    {
     "data": {
      "text/plain": [
       "NJIT         103\n",
       "Princeton    421\n",
       "Rowan         69\n",
       "Rutgers      612\n",
       "Seton          7\n",
       "Stevens       96\n",
       "Name: univ_list, dtype: int64"
      ]
     },
     "execution_count": 56,
     "metadata": {},
     "output_type": "execute_result"
    }
   ],
   "source": [
    "# examine result universities -- all should be singular \n",
    "nj_univ_df['univ_list'].value_counts().sort_index()"
   ]
  },
  {
   "cell_type": "code",
   "execution_count": 57,
   "id": "8fe5ea67-bb2d-4bc0-8e17-733e2cac9182",
   "metadata": {},
   "outputs": [],
   "source": [
    "# rename univ_list column to univ\n",
    "nj_univ_df.rename(columns={'univ_list': 'univ'}, inplace=True)"
   ]
  },
  {
   "cell_type": "code",
   "execution_count": 58,
   "id": "3528110a-2fec-4dbf-a904-d2d120495f7e",
   "metadata": {},
   "outputs": [],
   "source": [
    "# # delete unneeded dataframes and data structures \n",
    "# del applicant_df, patent_assignee_df, pgpub_assignee_df\n",
    "# del appl_dict, appl_list, univ_list"
   ]
  },
  {
   "cell_type": "code",
   "execution_count": 59,
   "id": "efaf526c-dfe3-4e3e-afac-acd7d4f484a1",
   "metadata": {},
   "outputs": [
    {
     "data": {
      "text/html": [
       "<div>\n",
       "<style scoped>\n",
       "    .dataframe tbody tr th:only-of-type {\n",
       "        vertical-align: middle;\n",
       "    }\n",
       "\n",
       "    .dataframe tbody tr th {\n",
       "        vertical-align: top;\n",
       "    }\n",
       "\n",
       "    .dataframe thead th {\n",
       "        text-align: right;\n",
       "    }\n",
       "</style>\n",
       "<table border=\"1\" class=\"dataframe\">\n",
       "  <thead>\n",
       "    <tr style=\"text-align: right;\">\n",
       "      <th></th>\n",
       "      <th>application_number</th>\n",
       "      <th>univ</th>\n",
       "      <th>series</th>\n",
       "    </tr>\n",
       "  </thead>\n",
       "  <tbody>\n",
       "    <tr>\n",
       "      <th>0</th>\n",
       "      <td>17435954</td>\n",
       "      <td>Rutgers</td>\n",
       "      <td>17</td>\n",
       "    </tr>\n",
       "    <tr>\n",
       "      <th>1</th>\n",
       "      <td>17914647</td>\n",
       "      <td>Rutgers</td>\n",
       "      <td>17</td>\n",
       "    </tr>\n",
       "    <tr>\n",
       "      <th>2</th>\n",
       "      <td>18005188</td>\n",
       "      <td>Princeton</td>\n",
       "      <td>18</td>\n",
       "    </tr>\n",
       "    <tr>\n",
       "      <th>3</th>\n",
       "      <td>18245256</td>\n",
       "      <td>Rutgers</td>\n",
       "      <td>18</td>\n",
       "    </tr>\n",
       "    <tr>\n",
       "      <th>4</th>\n",
       "      <td>12539049</td>\n",
       "      <td>NJIT</td>\n",
       "      <td>12</td>\n",
       "    </tr>\n",
       "  </tbody>\n",
       "</table>\n",
       "</div>"
      ],
      "text/plain": [
       "  application_number       univ series\n",
       "0           17435954    Rutgers     17\n",
       "1           17914647    Rutgers     17\n",
       "2           18005188  Princeton     18\n",
       "3           18245256    Rutgers     18\n",
       "4           12539049       NJIT     12"
      ]
     },
     "execution_count": 59,
     "metadata": {},
     "output_type": "execute_result"
    }
   ],
   "source": [
    "# look at first 5 observations (do not use transpose to preserve column orientation)\n",
    "# note that university names are not in a list \n",
    "nj_univ_df.head(5)"
   ]
  },
  {
   "cell_type": "code",
   "execution_count": 60,
   "id": "9eff9587-0b5f-4d9a-a18d-694afab5b4c5",
   "metadata": {},
   "outputs": [
    {
     "data": {
      "text/html": [
       "<div>\n",
       "<style scoped>\n",
       "    .dataframe tbody tr th:only-of-type {\n",
       "        vertical-align: middle;\n",
       "    }\n",
       "\n",
       "    .dataframe tbody tr th {\n",
       "        vertical-align: top;\n",
       "    }\n",
       "\n",
       "    .dataframe thead th {\n",
       "        text-align: right;\n",
       "    }\n",
       "</style>\n",
       "<table border=\"1\" class=\"dataframe\">\n",
       "  <thead>\n",
       "    <tr style=\"text-align: right;\">\n",
       "      <th></th>\n",
       "      <th>application_number</th>\n",
       "      <th>univ</th>\n",
       "      <th>series</th>\n",
       "    </tr>\n",
       "  </thead>\n",
       "  <tbody>\n",
       "    <tr>\n",
       "      <th>140</th>\n",
       "      <td>14348197</td>\n",
       "      <td>Stevens</td>\n",
       "      <td>14</td>\n",
       "    </tr>\n",
       "    <tr>\n",
       "      <th>140</th>\n",
       "      <td>14348197</td>\n",
       "      <td>Rutgers</td>\n",
       "      <td>14</td>\n",
       "    </tr>\n",
       "    <tr>\n",
       "      <th>293</th>\n",
       "      <td>14751086</td>\n",
       "      <td>Stevens</td>\n",
       "      <td>14</td>\n",
       "    </tr>\n",
       "    <tr>\n",
       "      <th>293</th>\n",
       "      <td>14751086</td>\n",
       "      <td>Rutgers</td>\n",
       "      <td>14</td>\n",
       "    </tr>\n",
       "    <tr>\n",
       "      <th>299</th>\n",
       "      <td>14763944</td>\n",
       "      <td>Rutgers</td>\n",
       "      <td>14</td>\n",
       "    </tr>\n",
       "    <tr>\n",
       "      <th>299</th>\n",
       "      <td>14763944</td>\n",
       "      <td>NJIT</td>\n",
       "      <td>14</td>\n",
       "    </tr>\n",
       "  </tbody>\n",
       "</table>\n",
       "</div>"
      ],
      "text/plain": [
       "    application_number     univ series\n",
       "140           14348197  Stevens     14\n",
       "140           14348197  Rutgers     14\n",
       "293           14751086  Stevens     14\n",
       "293           14751086  Rutgers     14\n",
       "299           14763944  Rutgers     14\n",
       "299           14763944     NJIT     14"
      ]
     },
     "execution_count": 60,
     "metadata": {},
     "output_type": "execute_result"
    }
   ],
   "source": [
    "# look at the first 6 observations (3 applications) having more than one university owner \n",
    "# (option keep=False tags all duplicate observation, not just the first or last)\n",
    "# (note: this command does not change the underlying dataset - duplicates are not dropped)\n",
    "nj_univ_df.loc[nj_univ_df.duplicated(subset=['application_number'], keep=False)].head(6)"
   ]
  },
  {
   "cell_type": "code",
   "execution_count": 61,
   "id": "a3175f77",
   "metadata": {},
   "outputs": [
    {
     "name": "stdout",
     "output_type": "stream",
     "text": [
      "C:\\Users\\user\\Downloads\\BulkData2023\\application_data.csv\n"
     ]
    }
   ],
   "source": [
    "# set filepath to PatEx application data csv file\n",
    "filepath = os_path.join(PATEX_DIR, 'application_data.csv')\n",
    "print(filepath)"
   ]
  },
  {
   "cell_type": "code",
   "execution_count": 62,
   "id": "967bc276",
   "metadata": {},
   "outputs": [],
   "source": [
    "# identify columns we want to use\n",
    "col_list = ['application_number','filing_date','application_invention_type',\n",
    "            'earliest_pgpub_number','earliest_pgpub_date','patent_number','patent_issue_date',\n",
    "            'invention_title','small_entity_indicator','aia_first_to_file']\n",
    "\n",
    "# open csv file as a pandas dataframe\n",
    "# - identify the header as row 0 (the first row)\n",
    "# - use only selected columns\n",
    "# - ensure all columns are read in as strings (important for the application number)\n",
    "# - option keep_default_na=False ensure we get an empty string and not NaN if a value is missing\n",
    "appl_df = pd.read_csv(filepath,\n",
    "                      header=0,\n",
    "                      usecols=col_list,\n",
    "                      dtype=str,\n",
    "                      keep_default_na=False)"
   ]
  },
  {
   "cell_type": "code",
   "execution_count": 63,
   "id": "dd9f05b0",
   "metadata": {},
   "outputs": [
    {
     "data": {
      "text/html": [
       "<div>\n",
       "<style scoped>\n",
       "    .dataframe tbody tr th:only-of-type {\n",
       "        vertical-align: middle;\n",
       "    }\n",
       "\n",
       "    .dataframe tbody tr th {\n",
       "        vertical-align: top;\n",
       "    }\n",
       "\n",
       "    .dataframe thead th {\n",
       "        text-align: right;\n",
       "    }\n",
       "</style>\n",
       "<table border=\"1\" class=\"dataframe\">\n",
       "  <thead>\n",
       "    <tr style=\"text-align: right;\">\n",
       "      <th></th>\n",
       "      <th>application_number</th>\n",
       "      <th>filing_date</th>\n",
       "      <th>application_invention_type</th>\n",
       "      <th>earliest_pgpub_number</th>\n",
       "      <th>earliest_pgpub_date</th>\n",
       "      <th>patent_number</th>\n",
       "      <th>patent_issue_date</th>\n",
       "      <th>invention_title</th>\n",
       "      <th>small_entity_indicator</th>\n",
       "      <th>aia_first_to_file</th>\n",
       "    </tr>\n",
       "  </thead>\n",
       "  <tbody>\n",
       "    <tr>\n",
       "      <th>0</th>\n",
       "      <td>04453098</td>\n",
       "      <td></td>\n",
       "      <td></td>\n",
       "      <td></td>\n",
       "      <td></td>\n",
       "      <td></td>\n",
       "      <td></td>\n",
       "      <td></td>\n",
       "      <td>UNDISCOUNTED</td>\n",
       "      <td></td>\n",
       "    </tr>\n",
       "    <tr>\n",
       "      <th>1</th>\n",
       "      <td>04544040</td>\n",
       "      <td></td>\n",
       "      <td></td>\n",
       "      <td></td>\n",
       "      <td></td>\n",
       "      <td></td>\n",
       "      <td></td>\n",
       "      <td></td>\n",
       "      <td>UNDISCOUNTED</td>\n",
       "      <td></td>\n",
       "    </tr>\n",
       "    <tr>\n",
       "      <th>2</th>\n",
       "      <td>04577552</td>\n",
       "      <td></td>\n",
       "      <td></td>\n",
       "      <td></td>\n",
       "      <td></td>\n",
       "      <td></td>\n",
       "      <td></td>\n",
       "      <td></td>\n",
       "      <td>UNDISCOUNTED</td>\n",
       "      <td></td>\n",
       "    </tr>\n",
       "    <tr>\n",
       "      <th>3</th>\n",
       "      <td>04589670</td>\n",
       "      <td></td>\n",
       "      <td></td>\n",
       "      <td></td>\n",
       "      <td></td>\n",
       "      <td></td>\n",
       "      <td></td>\n",
       "      <td></td>\n",
       "      <td>UNDISCOUNTED</td>\n",
       "      <td></td>\n",
       "    </tr>\n",
       "    <tr>\n",
       "      <th>4</th>\n",
       "      <td>04578318</td>\n",
       "      <td></td>\n",
       "      <td></td>\n",
       "      <td></td>\n",
       "      <td></td>\n",
       "      <td></td>\n",
       "      <td></td>\n",
       "      <td></td>\n",
       "      <td>UNDISCOUNTED</td>\n",
       "      <td></td>\n",
       "    </tr>\n",
       "  </tbody>\n",
       "</table>\n",
       "</div>"
      ],
      "text/plain": [
       "  application_number filing_date application_invention_type  \\\n",
       "0           04453098                                          \n",
       "1           04544040                                          \n",
       "2           04577552                                          \n",
       "3           04589670                                          \n",
       "4           04578318                                          \n",
       "\n",
       "  earliest_pgpub_number earliest_pgpub_date patent_number patent_issue_date  \\\n",
       "0                                                                             \n",
       "1                                                                             \n",
       "2                                                                             \n",
       "3                                                                             \n",
       "4                                                                             \n",
       "\n",
       "  invention_title small_entity_indicator aia_first_to_file  \n",
       "0                           UNDISCOUNTED                    \n",
       "1                           UNDISCOUNTED                    \n",
       "2                           UNDISCOUNTED                    \n",
       "3                           UNDISCOUNTED                    \n",
       "4                           UNDISCOUNTED                    "
      ]
     },
     "execution_count": 63,
     "metadata": {},
     "output_type": "execute_result"
    }
   ],
   "source": [
    "appl_df.head()"
   ]
  },
  {
   "cell_type": "code",
   "execution_count": 64,
   "id": "4a07fbe6",
   "metadata": {},
   "outputs": [],
   "source": [
    "# create column for filing year\n",
    "appl_df['filing_year'] = appl_df['filing_date'].apply(lambda x: x[0:4])"
   ]
  },
  {
   "cell_type": "code",
   "execution_count": 65,
   "id": "4c547ff4",
   "metadata": {},
   "outputs": [
    {
     "data": {
      "text/html": [
       "<div>\n",
       "<style scoped>\n",
       "    .dataframe tbody tr th:only-of-type {\n",
       "        vertical-align: middle;\n",
       "    }\n",
       "\n",
       "    .dataframe tbody tr th {\n",
       "        vertical-align: top;\n",
       "    }\n",
       "\n",
       "    .dataframe thead th {\n",
       "        text-align: right;\n",
       "    }\n",
       "</style>\n",
       "<table border=\"1\" class=\"dataframe\">\n",
       "  <thead>\n",
       "    <tr style=\"text-align: right;\">\n",
       "      <th></th>\n",
       "      <th>application_number</th>\n",
       "      <th>filing_date</th>\n",
       "      <th>application_invention_type</th>\n",
       "      <th>earliest_pgpub_number</th>\n",
       "      <th>earliest_pgpub_date</th>\n",
       "      <th>patent_number</th>\n",
       "      <th>patent_issue_date</th>\n",
       "      <th>invention_title</th>\n",
       "      <th>small_entity_indicator</th>\n",
       "      <th>aia_first_to_file</th>\n",
       "      <th>filing_year</th>\n",
       "    </tr>\n",
       "  </thead>\n",
       "  <tbody>\n",
       "    <tr>\n",
       "      <th>0</th>\n",
       "      <td>04453098</td>\n",
       "      <td></td>\n",
       "      <td></td>\n",
       "      <td></td>\n",
       "      <td></td>\n",
       "      <td></td>\n",
       "      <td></td>\n",
       "      <td></td>\n",
       "      <td>UNDISCOUNTED</td>\n",
       "      <td></td>\n",
       "      <td></td>\n",
       "    </tr>\n",
       "    <tr>\n",
       "      <th>1</th>\n",
       "      <td>04544040</td>\n",
       "      <td></td>\n",
       "      <td></td>\n",
       "      <td></td>\n",
       "      <td></td>\n",
       "      <td></td>\n",
       "      <td></td>\n",
       "      <td></td>\n",
       "      <td>UNDISCOUNTED</td>\n",
       "      <td></td>\n",
       "      <td></td>\n",
       "    </tr>\n",
       "    <tr>\n",
       "      <th>2</th>\n",
       "      <td>04577552</td>\n",
       "      <td></td>\n",
       "      <td></td>\n",
       "      <td></td>\n",
       "      <td></td>\n",
       "      <td></td>\n",
       "      <td></td>\n",
       "      <td></td>\n",
       "      <td>UNDISCOUNTED</td>\n",
       "      <td></td>\n",
       "      <td></td>\n",
       "    </tr>\n",
       "    <tr>\n",
       "      <th>3</th>\n",
       "      <td>04589670</td>\n",
       "      <td></td>\n",
       "      <td></td>\n",
       "      <td></td>\n",
       "      <td></td>\n",
       "      <td></td>\n",
       "      <td></td>\n",
       "      <td></td>\n",
       "      <td>UNDISCOUNTED</td>\n",
       "      <td></td>\n",
       "      <td></td>\n",
       "    </tr>\n",
       "    <tr>\n",
       "      <th>4</th>\n",
       "      <td>04578318</td>\n",
       "      <td></td>\n",
       "      <td></td>\n",
       "      <td></td>\n",
       "      <td></td>\n",
       "      <td></td>\n",
       "      <td></td>\n",
       "      <td></td>\n",
       "      <td>UNDISCOUNTED</td>\n",
       "      <td></td>\n",
       "      <td></td>\n",
       "    </tr>\n",
       "  </tbody>\n",
       "</table>\n",
       "</div>"
      ],
      "text/plain": [
       "  application_number filing_date application_invention_type  \\\n",
       "0           04453098                                          \n",
       "1           04544040                                          \n",
       "2           04577552                                          \n",
       "3           04589670                                          \n",
       "4           04578318                                          \n",
       "\n",
       "  earliest_pgpub_number earliest_pgpub_date patent_number patent_issue_date  \\\n",
       "0                                                                             \n",
       "1                                                                             \n",
       "2                                                                             \n",
       "3                                                                             \n",
       "4                                                                             \n",
       "\n",
       "  invention_title small_entity_indicator aia_first_to_file filing_year  \n",
       "0                           UNDISCOUNTED                                \n",
       "1                           UNDISCOUNTED                                \n",
       "2                           UNDISCOUNTED                                \n",
       "3                           UNDISCOUNTED                                \n",
       "4                           UNDISCOUNTED                                "
      ]
     },
     "execution_count": 65,
     "metadata": {},
     "output_type": "execute_result"
    }
   ],
   "source": [
    "appl_df.head()"
   ]
  },
  {
   "cell_type": "code",
   "execution_count": 66,
   "id": "c28e6d54",
   "metadata": {},
   "outputs": [
    {
     "name": "stdout",
     "output_type": "stream",
     "text": [
      "Number of rows before date filter: 14,100,378\n",
      "Number of rows after date filter: 4,246,035\n"
     ]
    }
   ],
   "source": [
    "# filter data to keep applications between start and end dates\n",
    "\n",
    "print('Number of rows before date filter: {:,}'.format(len(appl_df)))\n",
    "\n",
    "appl_df = appl_df.loc[(appl_df['filing_year']>=START_YEAR) & \\\n",
    "                      (appl_df['filing_year']<=END_YEAR)]\n",
    "\n",
    "print('Number of rows after date filter: {:,}'.format(len(appl_df)))\n"
   ]
  },
  {
   "cell_type": "code",
   "execution_count": 67,
   "id": "6f5b1fe6",
   "metadata": {},
   "outputs": [],
   "source": [
    "# left join nj_univ_df (left table) to appl_df (right table); use indicator=True to filter results \n",
    "nj_univ_df = nj_univ_df.merge(appl_df, \n",
    "                                how='left', \n",
    "                                on='application_number', \n",
    "                                indicator=True)"
   ]
  },
  {
   "cell_type": "code",
   "execution_count": 68,
   "id": "611339ae-cdfe-44fd-a55f-ddbdb6786cd2",
   "metadata": {},
   "outputs": [
    {
     "data": {
      "text/html": [
       "<div>\n",
       "<style scoped>\n",
       "    .dataframe tbody tr th:only-of-type {\n",
       "        vertical-align: middle;\n",
       "    }\n",
       "\n",
       "    .dataframe tbody tr th {\n",
       "        vertical-align: top;\n",
       "    }\n",
       "\n",
       "    .dataframe thead th {\n",
       "        text-align: right;\n",
       "    }\n",
       "</style>\n",
       "<table border=\"1\" class=\"dataframe\">\n",
       "  <thead>\n",
       "    <tr style=\"text-align: right;\">\n",
       "      <th></th>\n",
       "      <th>application_number</th>\n",
       "      <th>univ</th>\n",
       "      <th>series</th>\n",
       "      <th>filing_date</th>\n",
       "      <th>application_invention_type</th>\n",
       "      <th>earliest_pgpub_number</th>\n",
       "      <th>earliest_pgpub_date</th>\n",
       "      <th>patent_number</th>\n",
       "      <th>patent_issue_date</th>\n",
       "      <th>invention_title</th>\n",
       "      <th>small_entity_indicator</th>\n",
       "      <th>aia_first_to_file</th>\n",
       "      <th>filing_year</th>\n",
       "      <th>_merge</th>\n",
       "    </tr>\n",
       "  </thead>\n",
       "  <tbody>\n",
       "    <tr>\n",
       "      <th>0</th>\n",
       "      <td>17435954</td>\n",
       "      <td>Rutgers</td>\n",
       "      <td>17</td>\n",
       "      <td>NaN</td>\n",
       "      <td>NaN</td>\n",
       "      <td>NaN</td>\n",
       "      <td>NaN</td>\n",
       "      <td>NaN</td>\n",
       "      <td>NaN</td>\n",
       "      <td>NaN</td>\n",
       "      <td>NaN</td>\n",
       "      <td>NaN</td>\n",
       "      <td>NaN</td>\n",
       "      <td>left_only</td>\n",
       "    </tr>\n",
       "    <tr>\n",
       "      <th>1</th>\n",
       "      <td>17914647</td>\n",
       "      <td>Rutgers</td>\n",
       "      <td>17</td>\n",
       "      <td>NaN</td>\n",
       "      <td>NaN</td>\n",
       "      <td>NaN</td>\n",
       "      <td>NaN</td>\n",
       "      <td>NaN</td>\n",
       "      <td>NaN</td>\n",
       "      <td>NaN</td>\n",
       "      <td>NaN</td>\n",
       "      <td>NaN</td>\n",
       "      <td>NaN</td>\n",
       "      <td>left_only</td>\n",
       "    </tr>\n",
       "    <tr>\n",
       "      <th>2</th>\n",
       "      <td>18005188</td>\n",
       "      <td>Princeton</td>\n",
       "      <td>18</td>\n",
       "      <td>NaN</td>\n",
       "      <td>NaN</td>\n",
       "      <td>NaN</td>\n",
       "      <td>NaN</td>\n",
       "      <td>NaN</td>\n",
       "      <td>NaN</td>\n",
       "      <td>NaN</td>\n",
       "      <td>NaN</td>\n",
       "      <td>NaN</td>\n",
       "      <td>NaN</td>\n",
       "      <td>left_only</td>\n",
       "    </tr>\n",
       "    <tr>\n",
       "      <th>3</th>\n",
       "      <td>18245256</td>\n",
       "      <td>Rutgers</td>\n",
       "      <td>18</td>\n",
       "      <td>NaN</td>\n",
       "      <td>NaN</td>\n",
       "      <td>NaN</td>\n",
       "      <td>NaN</td>\n",
       "      <td>NaN</td>\n",
       "      <td>NaN</td>\n",
       "      <td>NaN</td>\n",
       "      <td>NaN</td>\n",
       "      <td>NaN</td>\n",
       "      <td>NaN</td>\n",
       "      <td>left_only</td>\n",
       "    </tr>\n",
       "    <tr>\n",
       "      <th>4</th>\n",
       "      <td>12539049</td>\n",
       "      <td>NJIT</td>\n",
       "      <td>12</td>\n",
       "      <td>NaN</td>\n",
       "      <td>NaN</td>\n",
       "      <td>NaN</td>\n",
       "      <td>NaN</td>\n",
       "      <td>NaN</td>\n",
       "      <td>NaN</td>\n",
       "      <td>NaN</td>\n",
       "      <td>NaN</td>\n",
       "      <td>NaN</td>\n",
       "      <td>NaN</td>\n",
       "      <td>left_only</td>\n",
       "    </tr>\n",
       "  </tbody>\n",
       "</table>\n",
       "</div>"
      ],
      "text/plain": [
       "  application_number       univ series filing_date application_invention_type  \\\n",
       "0           17435954    Rutgers     17         NaN                        NaN   \n",
       "1           17914647    Rutgers     17         NaN                        NaN   \n",
       "2           18005188  Princeton     18         NaN                        NaN   \n",
       "3           18245256    Rutgers     18         NaN                        NaN   \n",
       "4           12539049       NJIT     12         NaN                        NaN   \n",
       "\n",
       "  earliest_pgpub_number earliest_pgpub_date patent_number patent_issue_date  \\\n",
       "0                   NaN                 NaN           NaN               NaN   \n",
       "1                   NaN                 NaN           NaN               NaN   \n",
       "2                   NaN                 NaN           NaN               NaN   \n",
       "3                   NaN                 NaN           NaN               NaN   \n",
       "4                   NaN                 NaN           NaN               NaN   \n",
       "\n",
       "  invention_title small_entity_indicator aia_first_to_file filing_year  \\\n",
       "0             NaN                    NaN               NaN         NaN   \n",
       "1             NaN                    NaN               NaN         NaN   \n",
       "2             NaN                    NaN               NaN         NaN   \n",
       "3             NaN                    NaN               NaN         NaN   \n",
       "4             NaN                    NaN               NaN         NaN   \n",
       "\n",
       "      _merge  \n",
       "0  left_only  \n",
       "1  left_only  \n",
       "2  left_only  \n",
       "3  left_only  \n",
       "4  left_only  "
      ]
     },
     "execution_count": 68,
     "metadata": {},
     "output_type": "execute_result"
    }
   ],
   "source": [
    "nj_univ_df.head()"
   ]
  },
  {
   "cell_type": "code",
   "execution_count": 69,
   "id": "a9c40eaf",
   "metadata": {},
   "outputs": [
    {
     "name": "stdout",
     "output_type": "stream",
     "text": [
      "both          1053\n",
      "left_only      255\n",
      "right_only       0\n",
      "Name: _merge, dtype: int64\n",
      "\n",
      "Merge results: \n",
      "Number appl w/target NJ university applicants within date range: 1,053\n",
      "Number appl w/target NJ university applicants outside date range (or no appl data): 255\n"
     ]
    }
   ],
   "source": [
    "merge_results_series = nj_univ_df['_merge'].value_counts()\n",
    "print(merge_results_series)\n",
    "\n",
    "print('\\nMerge results: ')\n",
    "print('Number appl w/target NJ university applicants within date range: {:,}'.\n",
    "      format(merge_results_series['both']))\n",
    "print('Number appl w/target NJ university applicants outside date range (or no appl data): {:,}'.\n",
    "      format(merge_results_series['left_only']))"
   ]
  },
  {
   "cell_type": "code",
   "execution_count": 70,
   "id": "1c7d25e5",
   "metadata": {},
   "outputs": [],
   "source": [
    "# keep _merge=='both'\n",
    "nj_univ_df = nj_univ_df.loc[nj_univ_df['_merge']=='both']"
   ]
  },
  {
   "cell_type": "code",
   "execution_count": 71,
   "id": "081023bd",
   "metadata": {},
   "outputs": [],
   "source": [
    "# drop _merge column\n",
    "nj_univ_df.drop(columns=['_merge'], inplace=True)"
   ]
  },
  {
   "cell_type": "code",
   "execution_count": 72,
   "id": "c349937b-91b4-4981-b457-6df6000084c3",
   "metadata": {},
   "outputs": [],
   "source": [
    "# reset index; do not insert previous index into dataframe\n",
    "nj_univ_df.reset_index(drop=True, inplace=True)"
   ]
  },
  {
   "cell_type": "code",
   "execution_count": 73,
   "id": "e548f5c9-5ab6-4725-8a9d-e39645d9795f",
   "metadata": {},
   "outputs": [],
   "source": [
    "# delete application dataframe \n",
    "del appl_df "
   ]
  },
  {
   "cell_type": "code",
   "execution_count": 74,
   "id": "4c1a325d-6d31-4cb5-87a5-f4faffc29d15",
   "metadata": {},
   "outputs": [
    {
     "data": {
      "text/html": [
       "<div>\n",
       "<style scoped>\n",
       "    .dataframe tbody tr th:only-of-type {\n",
       "        vertical-align: middle;\n",
       "    }\n",
       "\n",
       "    .dataframe tbody tr th {\n",
       "        vertical-align: top;\n",
       "    }\n",
       "\n",
       "    .dataframe thead th {\n",
       "        text-align: right;\n",
       "    }\n",
       "</style>\n",
       "<table border=\"1\" class=\"dataframe\">\n",
       "  <thead>\n",
       "    <tr style=\"text-align: right;\">\n",
       "      <th></th>\n",
       "      <th>0</th>\n",
       "      <th>1</th>\n",
       "      <th>2</th>\n",
       "      <th>3</th>\n",
       "      <th>4</th>\n",
       "    </tr>\n",
       "  </thead>\n",
       "  <tbody>\n",
       "    <tr>\n",
       "      <th>application_number</th>\n",
       "      <td>14605053</td>\n",
       "      <td>14417704</td>\n",
       "      <td>14607496</td>\n",
       "      <td>14418392</td>\n",
       "      <td>14609269</td>\n",
       "    </tr>\n",
       "    <tr>\n",
       "      <th>univ</th>\n",
       "      <td>Stevens</td>\n",
       "      <td>Rowan</td>\n",
       "      <td>Rutgers</td>\n",
       "      <td>Rutgers</td>\n",
       "      <td>Rutgers</td>\n",
       "    </tr>\n",
       "    <tr>\n",
       "      <th>series</th>\n",
       "      <td>14</td>\n",
       "      <td>14</td>\n",
       "      <td>14</td>\n",
       "      <td>14</td>\n",
       "      <td>14</td>\n",
       "    </tr>\n",
       "    <tr>\n",
       "      <th>filing_date</th>\n",
       "      <td>2015-01-26</td>\n",
       "      <td>2015-01-27</td>\n",
       "      <td>2015-01-28</td>\n",
       "      <td>2015-01-29</td>\n",
       "      <td>2015-01-29</td>\n",
       "    </tr>\n",
       "    <tr>\n",
       "      <th>application_invention_type</th>\n",
       "      <td>Utility</td>\n",
       "      <td>Utility</td>\n",
       "      <td>Utility</td>\n",
       "      <td>Utility</td>\n",
       "      <td>Utility</td>\n",
       "    </tr>\n",
       "    <tr>\n",
       "      <th>earliest_pgpub_number</th>\n",
       "      <td>US20150235073A1</td>\n",
       "      <td>US20150198600A1</td>\n",
       "      <td>US20150233934A1</td>\n",
       "      <td>US20150297725A1</td>\n",
       "      <td>US20150140074A1</td>\n",
       "    </tr>\n",
       "    <tr>\n",
       "      <th>earliest_pgpub_date</th>\n",
       "      <td>2015-08-20</td>\n",
       "      <td>2015-07-16</td>\n",
       "      <td>2015-08-20</td>\n",
       "      <td>2015-10-22</td>\n",
       "      <td>2015-05-21</td>\n",
       "    </tr>\n",
       "    <tr>\n",
       "      <th>patent_number</th>\n",
       "      <td></td>\n",
       "      <td></td>\n",
       "      <td>9945051</td>\n",
       "      <td></td>\n",
       "      <td>9775907</td>\n",
       "    </tr>\n",
       "    <tr>\n",
       "      <th>patent_issue_date</th>\n",
       "      <td></td>\n",
       "      <td></td>\n",
       "      <td>2018-04-17</td>\n",
       "      <td></td>\n",
       "      <td>2017-10-03</td>\n",
       "    </tr>\n",
       "    <tr>\n",
       "      <th>invention_title</th>\n",
       "      <td>FLEXIBLE PART-BASED REPRESENTATION FOR REAL-WO...</td>\n",
       "      <td>Autoantibody Profiles in the Early Detection a...</td>\n",
       "      <td>COLOR-ENCODING AND IN-SITU INTERROGATION OF MA...</td>\n",
       "      <td>COCHLEATES MADE WITH SOY PHOSPHATIDYLSERINE</td>\n",
       "      <td>COCHLEATES MADE WITH SOY PHOSPHATIDYLSERINE</td>\n",
       "    </tr>\n",
       "    <tr>\n",
       "      <th>small_entity_indicator</th>\n",
       "      <td>SMALL</td>\n",
       "      <td>SMALL</td>\n",
       "      <td>SMALL</td>\n",
       "      <td>SMALL</td>\n",
       "      <td>SMALL</td>\n",
       "    </tr>\n",
       "    <tr>\n",
       "      <th>aia_first_to_file</th>\n",
       "      <td>true</td>\n",
       "      <td>false</td>\n",
       "      <td>false</td>\n",
       "      <td>false</td>\n",
       "      <td>true</td>\n",
       "    </tr>\n",
       "    <tr>\n",
       "      <th>filing_year</th>\n",
       "      <td>2015</td>\n",
       "      <td>2015</td>\n",
       "      <td>2015</td>\n",
       "      <td>2015</td>\n",
       "      <td>2015</td>\n",
       "    </tr>\n",
       "  </tbody>\n",
       "</table>\n",
       "</div>"
      ],
      "text/plain": [
       "                                                                            0  \\\n",
       "application_number                                                   14605053   \n",
       "univ                                                                  Stevens   \n",
       "series                                                                     14   \n",
       "filing_date                                                        2015-01-26   \n",
       "application_invention_type                                            Utility   \n",
       "earliest_pgpub_number                                         US20150235073A1   \n",
       "earliest_pgpub_date                                                2015-08-20   \n",
       "patent_number                                                                   \n",
       "patent_issue_date                                                               \n",
       "invention_title             FLEXIBLE PART-BASED REPRESENTATION FOR REAL-WO...   \n",
       "small_entity_indicator                                                  SMALL   \n",
       "aia_first_to_file                                                        true   \n",
       "filing_year                                                              2015   \n",
       "\n",
       "                                                                            1  \\\n",
       "application_number                                                   14417704   \n",
       "univ                                                                    Rowan   \n",
       "series                                                                     14   \n",
       "filing_date                                                        2015-01-27   \n",
       "application_invention_type                                            Utility   \n",
       "earliest_pgpub_number                                         US20150198600A1   \n",
       "earliest_pgpub_date                                                2015-07-16   \n",
       "patent_number                                                                   \n",
       "patent_issue_date                                                               \n",
       "invention_title             Autoantibody Profiles in the Early Detection a...   \n",
       "small_entity_indicator                                                  SMALL   \n",
       "aia_first_to_file                                                       false   \n",
       "filing_year                                                              2015   \n",
       "\n",
       "                                                                            2  \\\n",
       "application_number                                                   14607496   \n",
       "univ                                                                  Rutgers   \n",
       "series                                                                     14   \n",
       "filing_date                                                        2015-01-28   \n",
       "application_invention_type                                            Utility   \n",
       "earliest_pgpub_number                                         US20150233934A1   \n",
       "earliest_pgpub_date                                                2015-08-20   \n",
       "patent_number                                                         9945051   \n",
       "patent_issue_date                                                  2018-04-17   \n",
       "invention_title             COLOR-ENCODING AND IN-SITU INTERROGATION OF MA...   \n",
       "small_entity_indicator                                                  SMALL   \n",
       "aia_first_to_file                                                       false   \n",
       "filing_year                                                              2015   \n",
       "\n",
       "                                                                      3  \\\n",
       "application_number                                             14418392   \n",
       "univ                                                            Rutgers   \n",
       "series                                                               14   \n",
       "filing_date                                                  2015-01-29   \n",
       "application_invention_type                                      Utility   \n",
       "earliest_pgpub_number                                   US20150297725A1   \n",
       "earliest_pgpub_date                                          2015-10-22   \n",
       "patent_number                                                             \n",
       "patent_issue_date                                                         \n",
       "invention_title             COCHLEATES MADE WITH SOY PHOSPHATIDYLSERINE   \n",
       "small_entity_indicator                                            SMALL   \n",
       "aia_first_to_file                                                 false   \n",
       "filing_year                                                        2015   \n",
       "\n",
       "                                                                      4  \n",
       "application_number                                             14609269  \n",
       "univ                                                            Rutgers  \n",
       "series                                                               14  \n",
       "filing_date                                                  2015-01-29  \n",
       "application_invention_type                                      Utility  \n",
       "earliest_pgpub_number                                   US20150140074A1  \n",
       "earliest_pgpub_date                                          2015-05-21  \n",
       "patent_number                                                   9775907  \n",
       "patent_issue_date                                            2017-10-03  \n",
       "invention_title             COCHLEATES MADE WITH SOY PHOSPHATIDYLSERINE  \n",
       "small_entity_indicator                                            SMALL  \n",
       "aia_first_to_file                                                  true  \n",
       "filing_year                                                        2015  "
      ]
     },
     "execution_count": 74,
     "metadata": {},
     "output_type": "execute_result"
    }
   ],
   "source": [
    "# print first five rows of data (use transpose for readability)\n",
    "nj_univ_df.head(5).transpose()"
   ]
  },
  {
   "cell_type": "code",
   "execution_count": 75,
   "id": "13b1070e",
   "metadata": {},
   "outputs": [
    {
     "name": "stdout",
     "output_type": "stream",
     "text": [
      "C:\\Users\\user\\Downloads\\BulkData2023\\all_inventors.csv\n"
     ]
    }
   ],
   "source": [
    "# set filepath to PatEx inventor data csv file\n",
    "filepath = os_path.join(PATEX_DIR, 'all_inventors.csv')\n",
    "print(filepath)"
   ]
  },
  {
   "cell_type": "code",
   "execution_count": 76,
   "id": "3eee7c1d",
   "metadata": {},
   "outputs": [],
   "source": [
    "# open csv file as a pandas dataframe\n",
    "# - identify the header as row 0 (the first row)\n",
    "# - use all columns (do not specify usecols)\n",
    "# - ensure all columns are read in as strings (important for the application number)\n",
    "# - option keep_default_na=False ensure we get an empty string and not NaN if a value is missing\n",
    "inv_df = pd.read_csv(filepath,\n",
    "                     header=0,\n",
    "                     dtype=str,\n",
    "                     keep_default_na=False)"
   ]
  },
  {
   "cell_type": "code",
   "execution_count": 77,
   "id": "41e17493",
   "metadata": {},
   "outputs": [],
   "source": [
    "# left join applicant_df (left table) to inv_df (right table); use indicator=True to check results \n",
    "nj_univ_appl_inv_df = nj_univ_df.merge(inv_df, \n",
    "                                       how='left', \n",
    "                                       on='application_number', \n",
    "                                       indicator=True)"
   ]
  },
  {
   "cell_type": "code",
   "execution_count": 78,
   "id": "84aa2ce7",
   "metadata": {},
   "outputs": [
    {
     "name": "stdout",
     "output_type": "stream",
     "text": [
      "both          3457\n",
      "left_only        9\n",
      "right_only       0\n",
      "Name: _merge, dtype: int64\n",
      "\n",
      "Merge results: \n",
      "Number application-applicant observations with inventor data: 3,457\n",
      "Number application-applicant observations missing inventor data: 9\n"
     ]
    }
   ],
   "source": [
    "merge_results_series = nj_univ_appl_inv_df['_merge'].value_counts()\n",
    "print(merge_results_series)\n",
    "\n",
    "print('\\nMerge results: ')\n",
    "print('Number application-applicant observations with inventor data: {:,}'.\n",
    "      format(merge_results_series['both']))\n",
    "print('Number application-applicant observations missing inventor data: {:,}'.\n",
    "      format(merge_results_series['left_only']))"
   ]
  },
  {
   "cell_type": "code",
   "execution_count": 79,
   "id": "8181c83d",
   "metadata": {},
   "outputs": [],
   "source": [
    "# keep _merge=='both'\n",
    "nj_univ_appl_inv_df = nj_univ_appl_inv_df.loc[nj_univ_appl_inv_df['_merge']=='both']"
   ]
  },
  {
   "cell_type": "code",
   "execution_count": 80,
   "id": "861c5596",
   "metadata": {},
   "outputs": [],
   "source": [
    "# drop _merge column \n",
    "nj_univ_appl_inv_df.drop(columns=['_merge'], inplace=True)"
   ]
  },
  {
   "cell_type": "code",
   "execution_count": 81,
   "id": "bcadcd00-bf21-4627-ba45-37ba3f648f17",
   "metadata": {},
   "outputs": [],
   "source": [
    "# delete unneeded dataframes\n",
    "del inv_df, nj_univ_df"
   ]
  },
  {
   "cell_type": "code",
   "execution_count": 82,
   "id": "eec3e8ef",
   "metadata": {},
   "outputs": [],
   "source": [
    "nj_univ_appl_inv_df['inv_id'] = nj_univ_appl_inv_df.groupby(['inventor_name_last',\n",
    "                                                             'inventor_name_first',\n",
    "                                                             'inventor_name_middle']).ngroup()"
   ]
  },
  {
   "cell_type": "code",
   "execution_count": 83,
   "id": "276850e3",
   "metadata": {},
   "outputs": [
    {
     "data": {
      "text/plain": [
       "univ\n",
       "NJIT         175\n",
       "Princeton    777\n",
       "Rowan        138\n",
       "Rutgers      938\n",
       "Seton         11\n",
       "Stevens      147\n",
       "Name: inv_id, dtype: int64"
      ]
     },
     "execution_count": 83,
     "metadata": {},
     "output_type": "execute_result"
    }
   ],
   "source": [
    "# count number of unque inventors by university\n",
    "nj_univ_appl_inv_df.groupby(by=['univ'])['inv_id'].nunique()"
   ]
  },
  {
   "cell_type": "code",
   "execution_count": 84,
   "id": "4e09009a",
   "metadata": {},
   "outputs": [],
   "source": [
    "# import gender_it_functions\n",
    "from gender_it import gender_it_functions as gf"
   ]
  },
  {
   "cell_type": "code",
   "execution_count": 85,
   "id": "0ba9e651-bf5f-43e9-b231-6243e8217f9d",
   "metadata": {},
   "outputs": [],
   "source": [
    "#gf.read_wgnd(path='gender_it//')"
   ]
  },
  {
   "cell_type": "code",
   "execution_count": 86,
   "id": "84f32c0f-cac7-4376-9a01-1680745009c3",
   "metadata": {},
   "outputs": [
    {
     "name": "stdout",
     "output_type": "stream",
     "text": [
      "Step 1 - reading the name-country-gender dictionary\n",
      "reading the dictionnary.\n",
      "Step 2 - reading the name-language-gender dictionary\n",
      "reading the dictionnary.\n",
      "downloading the dictionnary.\n",
      "Step 3 - reading the name-gender dictionary.\n",
      "reading the dictionnary.\n",
      "Results distirbution is as follow: \n",
      "            gender  Percentage\n",
      "M            2409   69.684698\n",
      "F             658   19.033844\n",
      "not found     388   11.223604\n",
      "?               2    0.057854\n"
     ]
    }
   ],
   "source": [
    "# get gender attributions for inventors; set threshold to 0.60\n",
    "nj_univ_appl_inv_gender_df = gf.get_gender(nj_univ_appl_inv_df, \n",
    "                                           name_column = 'inventor_name_first', \n",
    "                                           country_column = 'inventor_country_code', \n",
    "                                           treshold = 0.6)"
   ]
  },
  {
   "cell_type": "code",
   "execution_count": 87,
   "id": "1887e638",
   "metadata": {},
   "outputs": [
    {
     "data": {
      "text/html": [
       "<div>\n",
       "<style scoped>\n",
       "    .dataframe tbody tr th:only-of-type {\n",
       "        vertical-align: middle;\n",
       "    }\n",
       "\n",
       "    .dataframe tbody tr th {\n",
       "        vertical-align: top;\n",
       "    }\n",
       "\n",
       "    .dataframe thead th {\n",
       "        text-align: right;\n",
       "    }\n",
       "</style>\n",
       "<table border=\"1\" class=\"dataframe\">\n",
       "  <thead>\n",
       "    <tr style=\"text-align: right;\">\n",
       "      <th></th>\n",
       "      <th>application_number</th>\n",
       "      <th>univ</th>\n",
       "      <th>series</th>\n",
       "      <th>filing_date</th>\n",
       "      <th>application_invention_type</th>\n",
       "      <th>earliest_pgpub_number</th>\n",
       "      <th>earliest_pgpub_date</th>\n",
       "      <th>patent_number</th>\n",
       "      <th>patent_issue_date</th>\n",
       "      <th>invention_title</th>\n",
       "      <th>...</th>\n",
       "      <th>aia_first_to_file</th>\n",
       "      <th>filing_year</th>\n",
       "      <th>inventor_name_first</th>\n",
       "      <th>inventor_name_middle</th>\n",
       "      <th>inventor_name_last</th>\n",
       "      <th>inventor_rank</th>\n",
       "      <th>inventor_city_name</th>\n",
       "      <th>inventor_region_code</th>\n",
       "      <th>inventor_country_code</th>\n",
       "      <th>inv_id</th>\n",
       "    </tr>\n",
       "  </thead>\n",
       "  <tbody>\n",
       "    <tr>\n",
       "      <th>0</th>\n",
       "      <td>14605053</td>\n",
       "      <td>Stevens</td>\n",
       "      <td>14</td>\n",
       "      <td>2015-01-26</td>\n",
       "      <td>Utility</td>\n",
       "      <td>US20150235073A1</td>\n",
       "      <td>2015-08-20</td>\n",
       "      <td></td>\n",
       "      <td></td>\n",
       "      <td>FLEXIBLE PART-BASED REPRESENTATION FOR REAL-WO...</td>\n",
       "      <td>...</td>\n",
       "      <td>true</td>\n",
       "      <td>2015</td>\n",
       "      <td>Gang</td>\n",
       "      <td></td>\n",
       "      <td>Hua</td>\n",
       "      <td>1</td>\n",
       "      <td>Livingston</td>\n",
       "      <td>NJ</td>\n",
       "      <td>US</td>\n",
       "      <td>794</td>\n",
       "    </tr>\n",
       "    <tr>\n",
       "      <th>1</th>\n",
       "      <td>14605053</td>\n",
       "      <td>Stevens</td>\n",
       "      <td>14</td>\n",
       "      <td>2015-01-26</td>\n",
       "      <td>Utility</td>\n",
       "      <td>US20150235073A1</td>\n",
       "      <td>2015-08-20</td>\n",
       "      <td></td>\n",
       "      <td></td>\n",
       "      <td>FLEXIBLE PART-BASED REPRESENTATION FOR REAL-WO...</td>\n",
       "      <td>...</td>\n",
       "      <td>true</td>\n",
       "      <td>2015</td>\n",
       "      <td>Haoxiang</td>\n",
       "      <td></td>\n",
       "      <td>Li</td>\n",
       "      <td>2</td>\n",
       "      <td>Hoboken</td>\n",
       "      <td>NJ</td>\n",
       "      <td>US</td>\n",
       "      <td>1052</td>\n",
       "    </tr>\n",
       "    <tr>\n",
       "      <th>2</th>\n",
       "      <td>14417704</td>\n",
       "      <td>Rowan</td>\n",
       "      <td>14</td>\n",
       "      <td>2015-01-27</td>\n",
       "      <td>Utility</td>\n",
       "      <td>US20150198600A1</td>\n",
       "      <td>2015-07-16</td>\n",
       "      <td></td>\n",
       "      <td></td>\n",
       "      <td>Autoantibody Profiles in the Early Detection a...</td>\n",
       "      <td>...</td>\n",
       "      <td>false</td>\n",
       "      <td>2015</td>\n",
       "      <td>Robert</td>\n",
       "      <td>G.</td>\n",
       "      <td>Nagele</td>\n",
       "      <td>1</td>\n",
       "      <td>Turnersville</td>\n",
       "      <td>NJ</td>\n",
       "      <td>US</td>\n",
       "      <td>1297</td>\n",
       "    </tr>\n",
       "    <tr>\n",
       "      <th>3</th>\n",
       "      <td>14417704</td>\n",
       "      <td>Rowan</td>\n",
       "      <td>14</td>\n",
       "      <td>2015-01-27</td>\n",
       "      <td>Utility</td>\n",
       "      <td>US20150198600A1</td>\n",
       "      <td>2015-07-16</td>\n",
       "      <td></td>\n",
       "      <td></td>\n",
       "      <td>Autoantibody Profiles in the Early Detection a...</td>\n",
       "      <td>...</td>\n",
       "      <td>false</td>\n",
       "      <td>2015</td>\n",
       "      <td>Eric</td>\n",
       "      <td>P.</td>\n",
       "      <td>Nagele</td>\n",
       "      <td>2</td>\n",
       "      <td>Turnersville</td>\n",
       "      <td>NJ</td>\n",
       "      <td>US</td>\n",
       "      <td>1296</td>\n",
       "    </tr>\n",
       "    <tr>\n",
       "      <th>4</th>\n",
       "      <td>14607496</td>\n",
       "      <td>Rutgers</td>\n",
       "      <td>14</td>\n",
       "      <td>2015-01-28</td>\n",
       "      <td>Utility</td>\n",
       "      <td>US20150233934A1</td>\n",
       "      <td>2015-08-20</td>\n",
       "      <td>9945051</td>\n",
       "      <td>2018-04-17</td>\n",
       "      <td>COLOR-ENCODING AND IN-SITU INTERROGATION OF MA...</td>\n",
       "      <td>...</td>\n",
       "      <td>false</td>\n",
       "      <td>2015</td>\n",
       "      <td>Richard</td>\n",
       "      <td></td>\n",
       "      <td>Ebright</td>\n",
       "      <td>1</td>\n",
       "      <td>New Brunswick</td>\n",
       "      <td>NJ</td>\n",
       "      <td>US</td>\n",
       "      <td>486</td>\n",
       "    </tr>\n",
       "  </tbody>\n",
       "</table>\n",
       "<p>5 rows × 21 columns</p>\n",
       "</div>"
      ],
      "text/plain": [
       "  application_number     univ series filing_date application_invention_type  \\\n",
       "0           14605053  Stevens     14  2015-01-26                    Utility   \n",
       "1           14605053  Stevens     14  2015-01-26                    Utility   \n",
       "2           14417704    Rowan     14  2015-01-27                    Utility   \n",
       "3           14417704    Rowan     14  2015-01-27                    Utility   \n",
       "4           14607496  Rutgers     14  2015-01-28                    Utility   \n",
       "\n",
       "  earliest_pgpub_number earliest_pgpub_date patent_number patent_issue_date  \\\n",
       "0       US20150235073A1          2015-08-20                                   \n",
       "1       US20150235073A1          2015-08-20                                   \n",
       "2       US20150198600A1          2015-07-16                                   \n",
       "3       US20150198600A1          2015-07-16                                   \n",
       "4       US20150233934A1          2015-08-20       9945051        2018-04-17   \n",
       "\n",
       "                                     invention_title  ... aia_first_to_file  \\\n",
       "0  FLEXIBLE PART-BASED REPRESENTATION FOR REAL-WO...  ...              true   \n",
       "1  FLEXIBLE PART-BASED REPRESENTATION FOR REAL-WO...  ...              true   \n",
       "2  Autoantibody Profiles in the Early Detection a...  ...             false   \n",
       "3  Autoantibody Profiles in the Early Detection a...  ...             false   \n",
       "4  COLOR-ENCODING AND IN-SITU INTERROGATION OF MA...  ...             false   \n",
       "\n",
       "  filing_year inventor_name_first inventor_name_middle inventor_name_last  \\\n",
       "0        2015                Gang                                     Hua   \n",
       "1        2015            Haoxiang                                      Li   \n",
       "2        2015              Robert                   G.             Nagele   \n",
       "3        2015                Eric                   P.             Nagele   \n",
       "4        2015             Richard                                 Ebright   \n",
       "\n",
       "  inventor_rank inventor_city_name inventor_region_code inventor_country_code  \\\n",
       "0             1         Livingston                   NJ                    US   \n",
       "1             2            Hoboken                   NJ                    US   \n",
       "2             1       Turnersville                   NJ                    US   \n",
       "3             2       Turnersville                   NJ                    US   \n",
       "4             1      New Brunswick                   NJ                    US   \n",
       "\n",
       "  inv_id  \n",
       "0    794  \n",
       "1   1052  \n",
       "2   1297  \n",
       "3   1296  \n",
       "4    486  \n",
       "\n",
       "[5 rows x 21 columns]"
      ]
     },
     "execution_count": 87,
     "metadata": {},
     "output_type": "execute_result"
    }
   ],
   "source": [
    "nj_univ_appl_inv_df.head()"
   ]
  },
  {
   "cell_type": "code",
   "execution_count": 88,
   "id": "9992122a-e300-4339-9938-3ffd1a345ac0",
   "metadata": {},
   "outputs": [
    {
     "data": {
      "text/html": [
       "<div>\n",
       "<style scoped>\n",
       "    .dataframe tbody tr th:only-of-type {\n",
       "        vertical-align: middle;\n",
       "    }\n",
       "\n",
       "    .dataframe tbody tr th {\n",
       "        vertical-align: top;\n",
       "    }\n",
       "\n",
       "    .dataframe thead th {\n",
       "        text-align: right;\n",
       "    }\n",
       "</style>\n",
       "<table border=\"1\" class=\"dataframe\">\n",
       "  <thead>\n",
       "    <tr style=\"text-align: right;\">\n",
       "      <th></th>\n",
       "      <th>application_number</th>\n",
       "      <th>univ</th>\n",
       "      <th>series</th>\n",
       "      <th>filing_date</th>\n",
       "      <th>application_invention_type</th>\n",
       "      <th>earliest_pgpub_number</th>\n",
       "      <th>earliest_pgpub_date</th>\n",
       "      <th>patent_number</th>\n",
       "      <th>patent_issue_date</th>\n",
       "      <th>invention_title</th>\n",
       "      <th>...</th>\n",
       "      <th>inventor_rank</th>\n",
       "      <th>inventor_city_name</th>\n",
       "      <th>inventor_region_code</th>\n",
       "      <th>inventor_country_code</th>\n",
       "      <th>inv_id</th>\n",
       "      <th>level</th>\n",
       "      <th>gender</th>\n",
       "      <th>F</th>\n",
       "      <th>M</th>\n",
       "      <th>?</th>\n",
       "    </tr>\n",
       "  </thead>\n",
       "  <tbody>\n",
       "    <tr>\n",
       "      <th>786</th>\n",
       "      <td>14605053</td>\n",
       "      <td>Stevens</td>\n",
       "      <td>14</td>\n",
       "      <td>2015-01-26</td>\n",
       "      <td>Utility</td>\n",
       "      <td>US20150235073A1</td>\n",
       "      <td>2015-08-20</td>\n",
       "      <td></td>\n",
       "      <td></td>\n",
       "      <td>FLEXIBLE PART-BASED REPRESENTATION FOR REAL-WO...</td>\n",
       "      <td>...</td>\n",
       "      <td>1</td>\n",
       "      <td>Livingston</td>\n",
       "      <td>NJ</td>\n",
       "      <td>US</td>\n",
       "      <td>794</td>\n",
       "      <td>1.0</td>\n",
       "      <td>M</td>\n",
       "      <td>0.0</td>\n",
       "      <td>1.0</td>\n",
       "      <td>0.0</td>\n",
       "    </tr>\n",
       "    <tr>\n",
       "      <th>388</th>\n",
       "      <td>14605053</td>\n",
       "      <td>Stevens</td>\n",
       "      <td>14</td>\n",
       "      <td>2015-01-26</td>\n",
       "      <td>Utility</td>\n",
       "      <td>US20150235073A1</td>\n",
       "      <td>2015-08-20</td>\n",
       "      <td></td>\n",
       "      <td></td>\n",
       "      <td>FLEXIBLE PART-BASED REPRESENTATION FOR REAL-WO...</td>\n",
       "      <td>...</td>\n",
       "      <td>2</td>\n",
       "      <td>Hoboken</td>\n",
       "      <td>NJ</td>\n",
       "      <td>US</td>\n",
       "      <td>1052</td>\n",
       "      <td>3.0</td>\n",
       "      <td>M</td>\n",
       "      <td>0.0</td>\n",
       "      <td>1.0</td>\n",
       "      <td>0.0</td>\n",
       "    </tr>\n",
       "    <tr>\n",
       "      <th>3039</th>\n",
       "      <td>14417704</td>\n",
       "      <td>Rowan</td>\n",
       "      <td>14</td>\n",
       "      <td>2015-01-27</td>\n",
       "      <td>Utility</td>\n",
       "      <td>US20150198600A1</td>\n",
       "      <td>2015-07-16</td>\n",
       "      <td></td>\n",
       "      <td></td>\n",
       "      <td>Autoantibody Profiles in the Early Detection a...</td>\n",
       "      <td>...</td>\n",
       "      <td>1</td>\n",
       "      <td>Turnersville</td>\n",
       "      <td>NJ</td>\n",
       "      <td>US</td>\n",
       "      <td>1297</td>\n",
       "      <td>2.0</td>\n",
       "      <td>M</td>\n",
       "      <td>0.0</td>\n",
       "      <td>1.0</td>\n",
       "      <td>0.0</td>\n",
       "    </tr>\n",
       "    <tr>\n",
       "      <th>2174</th>\n",
       "      <td>14417704</td>\n",
       "      <td>Rowan</td>\n",
       "      <td>14</td>\n",
       "      <td>2015-01-27</td>\n",
       "      <td>Utility</td>\n",
       "      <td>US20150198600A1</td>\n",
       "      <td>2015-07-16</td>\n",
       "      <td></td>\n",
       "      <td></td>\n",
       "      <td>Autoantibody Profiles in the Early Detection a...</td>\n",
       "      <td>...</td>\n",
       "      <td>2</td>\n",
       "      <td>Turnersville</td>\n",
       "      <td>NJ</td>\n",
       "      <td>US</td>\n",
       "      <td>1296</td>\n",
       "      <td>2.0</td>\n",
       "      <td>M</td>\n",
       "      <td>0.0</td>\n",
       "      <td>1.0</td>\n",
       "      <td>0.0</td>\n",
       "    </tr>\n",
       "    <tr>\n",
       "      <th>2993</th>\n",
       "      <td>14607496</td>\n",
       "      <td>Rutgers</td>\n",
       "      <td>14</td>\n",
       "      <td>2015-01-28</td>\n",
       "      <td>Utility</td>\n",
       "      <td>US20150233934A1</td>\n",
       "      <td>2015-08-20</td>\n",
       "      <td>9945051</td>\n",
       "      <td>2018-04-17</td>\n",
       "      <td>COLOR-ENCODING AND IN-SITU INTERROGATION OF MA...</td>\n",
       "      <td>...</td>\n",
       "      <td>1</td>\n",
       "      <td>New Brunswick</td>\n",
       "      <td>NJ</td>\n",
       "      <td>US</td>\n",
       "      <td>486</td>\n",
       "      <td>2.0</td>\n",
       "      <td>M</td>\n",
       "      <td>0.0</td>\n",
       "      <td>1.0</td>\n",
       "      <td>0.0</td>\n",
       "    </tr>\n",
       "  </tbody>\n",
       "</table>\n",
       "<p>5 rows × 26 columns</p>\n",
       "</div>"
      ],
      "text/plain": [
       "     application_number     univ series filing_date  \\\n",
       "786            14605053  Stevens     14  2015-01-26   \n",
       "388            14605053  Stevens     14  2015-01-26   \n",
       "3039           14417704    Rowan     14  2015-01-27   \n",
       "2174           14417704    Rowan     14  2015-01-27   \n",
       "2993           14607496  Rutgers     14  2015-01-28   \n",
       "\n",
       "     application_invention_type earliest_pgpub_number earliest_pgpub_date  \\\n",
       "786                     Utility       US20150235073A1          2015-08-20   \n",
       "388                     Utility       US20150235073A1          2015-08-20   \n",
       "3039                    Utility       US20150198600A1          2015-07-16   \n",
       "2174                    Utility       US20150198600A1          2015-07-16   \n",
       "2993                    Utility       US20150233934A1          2015-08-20   \n",
       "\n",
       "     patent_number patent_issue_date  \\\n",
       "786                                    \n",
       "388                                    \n",
       "3039                                   \n",
       "2174                                   \n",
       "2993       9945051        2018-04-17   \n",
       "\n",
       "                                        invention_title  ... inventor_rank  \\\n",
       "786   FLEXIBLE PART-BASED REPRESENTATION FOR REAL-WO...  ...             1   \n",
       "388   FLEXIBLE PART-BASED REPRESENTATION FOR REAL-WO...  ...             2   \n",
       "3039  Autoantibody Profiles in the Early Detection a...  ...             1   \n",
       "2174  Autoantibody Profiles in the Early Detection a...  ...             2   \n",
       "2993  COLOR-ENCODING AND IN-SITU INTERROGATION OF MA...  ...             1   \n",
       "\n",
       "     inventor_city_name inventor_region_code inventor_country_code inv_id  \\\n",
       "786          Livingston                   NJ                    US    794   \n",
       "388             Hoboken                   NJ                    US   1052   \n",
       "3039       Turnersville                   NJ                    US   1297   \n",
       "2174       Turnersville                   NJ                    US   1296   \n",
       "2993      New Brunswick                   NJ                    US    486   \n",
       "\n",
       "     level gender    F    M    ?  \n",
       "786    1.0      M  0.0  1.0  0.0  \n",
       "388    3.0      M  0.0  1.0  0.0  \n",
       "3039   2.0      M  0.0  1.0  0.0  \n",
       "2174   2.0      M  0.0  1.0  0.0  \n",
       "2993   2.0      M  0.0  1.0  0.0  \n",
       "\n",
       "[5 rows x 26 columns]"
      ]
     },
     "execution_count": 88,
     "metadata": {},
     "output_type": "execute_result"
    }
   ],
   "source": [
    "nj_univ_appl_inv_gender_df.head()"
   ]
  },
  {
   "cell_type": "code",
   "execution_count": 89,
   "id": "55397e9e-446d-4800-8b83-3012c7bab210",
   "metadata": {},
   "outputs": [
    {
     "data": {
      "text/plain": [
       "Index(['application_number', 'univ', 'series', 'filing_date',\n",
       "       'application_invention_type', 'earliest_pgpub_number',\n",
       "       'earliest_pgpub_date', 'patent_number', 'patent_issue_date',\n",
       "       'invention_title', 'small_entity_indicator', 'aia_first_to_file',\n",
       "       'filing_year', 'inventor_name_first', 'inventor_name_middle',\n",
       "       'inventor_name_last', 'inventor_rank', 'inventor_city_name',\n",
       "       'inventor_region_code', 'inventor_country_code', 'inv_id', 'level',\n",
       "       'gender', 'F', 'M', '?'],\n",
       "      dtype='object')"
      ]
     },
     "execution_count": 89,
     "metadata": {},
     "output_type": "execute_result"
    }
   ],
   "source": [
    "nj_univ_appl_inv_gender_df.columns"
   ]
  },
  {
   "cell_type": "code",
   "execution_count": 90,
   "id": "1f08881e-3fd6-4fb7-a256-6c8f06845c1e",
   "metadata": {},
   "outputs": [
    {
     "data": {
      "text/plain": [
       "univ     gender     filing_year\n",
       "NJIT     F          2015           10\n",
       "                    2016            6\n",
       "                    2017            4\n",
       "                    2018            5\n",
       "                    2019            8\n",
       "                                   ..\n",
       "Stevens  not found  2017            1\n",
       "                    2019            5\n",
       "                    2020            4\n",
       "                    2021            3\n",
       "                    2022           10\n",
       "Length: 124, dtype: int64"
      ]
     },
     "execution_count": 90,
     "metadata": {},
     "output_type": "execute_result"
    }
   ],
   "source": [
    "nj_univ_appl_inv_gender_df.groupby(by=[\"univ\",\"gender\",\"filing_year\"]).size()"
   ]
  },
  {
   "cell_type": "code",
   "execution_count": 91,
   "id": "6c898145-6d1a-4a2f-8c78-0d1ce8879836",
   "metadata": {},
   "outputs": [
    {
     "data": {
      "text/plain": [
       "univ     gender     filing_year\n",
       "NJIT     F          2015           9\n",
       "                    2016           6\n",
       "                    2017           4\n",
       "                    2018           5\n",
       "                    2019           8\n",
       "                                  ..\n",
       "Stevens  not found  2017           1\n",
       "                    2019           5\n",
       "                    2020           4\n",
       "                    2021           3\n",
       "                    2022           9\n",
       "Name: inv_id, Length: 124, dtype: int64"
      ]
     },
     "execution_count": 91,
     "metadata": {},
     "output_type": "execute_result"
    }
   ],
   "source": [
    "nj_univ_appl_inv_gender_df.groupby(by=[\"univ\",\"gender\",\"filing_year\"])['inv_id'].nunique()"
   ]
  },
  {
   "cell_type": "code",
   "execution_count": 92,
   "id": "b84ddbce-1004-4854-b88f-fb809e831687",
   "metadata": {},
   "outputs": [
    {
     "data": {
      "text/plain": [
       "univ     application_invention_type  filing_year  gender   \n",
       "NJIT     Provisional                 2016         F             1\n",
       "                                                  M             5\n",
       "                                                  not found     2\n",
       "                                     2017         M             4\n",
       "                                     2018         F             1\n",
       "                                                               ..\n",
       "Stevens  Utility                     2021         F             7\n",
       "                                                  M            13\n",
       "                                     2022         F             4\n",
       "                                                  M            24\n",
       "                                                  not found     9\n",
       "Name: inv_id, Length: 204, dtype: int64"
      ]
     },
     "execution_count": 92,
     "metadata": {},
     "output_type": "execute_result"
    }
   ],
   "source": [
    "nj_univ_appl_inv_gender_df.groupby(by=[\"univ\",\"application_invention_type\",\"filing_year\",\"gender\"])['inv_id'].nunique()"
   ]
  },
  {
   "cell_type": "code",
   "execution_count": 93,
   "id": "fb86a9d7-fcb7-4137-add5-694e0687122b",
   "metadata": {},
   "outputs": [
    {
     "data": {
      "text/plain": [
       "univ     application_invention_type  filing_year  gender   \n",
       "NJIT     Provisional                 2016         F             1\n",
       "                                                  M             3\n",
       "                                                  not found     2\n",
       "                                     2017         M             2\n",
       "                                     2018         F             1\n",
       "                                                               ..\n",
       "Stevens  Utility                     2021         F             4\n",
       "                                                  M             4\n",
       "                                     2022         F             5\n",
       "                                                  M            11\n",
       "                                                  not found     8\n",
       "Name: application_number, Length: 204, dtype: int64"
      ]
     },
     "execution_count": 93,
     "metadata": {},
     "output_type": "execute_result"
    }
   ],
   "source": [
    "nj_univ_appl_inv_gender_df.groupby(by=[\"univ\",\"application_invention_type\",\"filing_year\",\"gender\"])['application_number'].nunique()"
   ]
  },
  {
   "cell_type": "code",
   "execution_count": 94,
   "id": "9631b0be-e824-4f69-9f06-9596bbcb260d",
   "metadata": {},
   "outputs": [],
   "source": [
    "nj_univ_appl_inv_gender_df.to_csv('first_results_with_asg.csv')"
   ]
  },
  {
   "cell_type": "code",
   "execution_count": null,
   "id": "5282e4e3-1759-4514-a2f2-34445337d418",
   "metadata": {},
   "outputs": [],
   "source": []
  }
 ],
 "metadata": {
  "kernelspec": {
   "display_name": "Python 3 (ipykernel)",
   "language": "python",
   "name": "python3"
  },
  "language_info": {
   "codemirror_mode": {
    "name": "ipython",
    "version": 3
   },
   "file_extension": ".py",
   "mimetype": "text/x-python",
   "name": "python",
   "nbconvert_exporter": "python",
   "pygments_lexer": "ipython3",
   "version": "3.8.10"
  }
 },
 "nbformat": 4,
 "nbformat_minor": 5
}
